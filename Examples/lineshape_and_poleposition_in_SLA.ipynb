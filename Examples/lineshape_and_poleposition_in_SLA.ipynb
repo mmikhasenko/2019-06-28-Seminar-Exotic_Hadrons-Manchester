{
 "cells": [
  {
   "cell_type": "markdown",
   "metadata": {},
   "source": [
    "## Scatering length model\n",
    "see arXiv:1904.10021, proposal to X(3872) by E.Bratten at Phys.Rev. D76 (2007) 094028"
   ]
  },
  {
   "cell_type": "markdown",
   "metadata": {},
   "source": [
    "$$\n",
    "A(s) = \\frac{1}{-\\gamma-i\\sqrt{s-s_\\textrm{th}}}\n",
    "$$"
   ]
  },
  {
   "cell_type": "code",
   "execution_count": 9,
   "metadata": {},
   "outputs": [],
   "source": [
    "const mΣc = 2.4529\n",
    "const mDbar = 1.86482\n",
    "\n",
    "const mJψ = 3.092\n",
    "const mp = 0.938\n",
    "\n",
    "# scattering amplitude\n",
    "M(s,γ) = 1/(-γ-1im*sqrt(s-(mΣc+mDbar)^2)/2)\n",
    "\n",
    "# pole position\n",
    "pp(γ) = (mΣc+mDbar)^2-(2γ)^2\n",
    "\n",
    "# phase space factors\n",
    "λ(x,y,z) = x^2+y^2+z^2-2x*y-2y*z-2z*x\n",
    "ρ1(s) = s < (mΣc+mDbar)^2 ? 0.0 : sqrt(λ(s,mΣc^2,mDbar^2))/s;\n",
    "ρ2(s) = sqrt(λ(s,mJψ^2,mp^2))/s;"
   ]
  },
  {
   "cell_type": "code",
   "execution_count": 10,
   "metadata": {},
   "outputs": [
    {
     "data": {
      "text/plain": [
       "plot_complex_plane_and_spectra (generic function with 1 method)"
      ]
     },
     "execution_count": 10,
     "metadata": {},
     "output_type": "execute_result"
    }
   ],
   "source": [
    "using Plots\n",
    "using Interact\n",
    "#\n",
    "function plot_complex_plane_and_spectra(γ; Emin=4.25, Emax=4.4)\n",
    "    plot(layout=grid(3,1,heights=(0.5,0.25,0.25)),size=(700,800), link=:x)\n",
    "    plot!([4.25^2, 4.4^2], [0.0, 0.0], lab=\"\", l=(2,:red), α=0.1, sp=1)\n",
    "    plot!([(mDbar+mΣc)^2, 4.4^2], [0.0, 0.0], lab=\"\", l=(2,:red), sp=1)\n",
    "    plot!([(mDbar+mΣc)^2], [0.0], sp=1, m=(3,:red), lab=\"\",\n",
    "        ann=(4.33^2, 0.6, \"[Dbar Sigmac]\"))\n",
    "    plot!([real(pp(γ))], [1000*imag(sqrt(pp(γ)))], sp=1,\n",
    "        m=(7,(imag(pp(γ)) > 0 ? :orange : :purple)), ylim=(-5,5),\n",
    "        xlab=\"mass square (GeV)\", ylab=\"- half width (MeV)\", lab=\"\")\n",
    "    #\n",
    "    plot!(s->abs2(M(s+1e-6im,γ))*ρ1(s), 4.25^2, 4.4^2, yaxis=false, lab=\"\",\n",
    "        xlab=\"m(Dbar Sigma) (GeV)\", l=(2,:black), sp=2)\n",
    "    plot!(s->abs2(M(s+1e-6im,γ))*ρ2(s), 4.25^2, 4.4^2, yaxis=false, lab=\"\",\n",
    "        xlab=\"m(Jpsi p) (GeV)\", l=(2,:black), sp=3)\n",
    "end;"
   ]
  },
  {
   "cell_type": "code",
   "execution_count": 8,
   "metadata": {},
   "outputs": [
    {
     "data": {
      "application/vnd.webio.node+json": {
       "children": [
        {
         "children": [
          {
           "children": [
            {
             "children": [
              {
               "children": [
                {
                 "children": [
                  "γRe"
                 ],
                 "instanceArgs": {
                  "namespace": "html",
                  "tag": "label"
                 },
                 "nodeType": "DOM",
                 "props": {
                  "className": "interact ",
                  "style": {
                   "padding": "5px 10px 0px 10px"
                  }
                 },
                 "type": "node"
                }
               ],
               "instanceArgs": {
                "namespace": "html",
                "tag": "div"
               },
               "nodeType": "DOM",
               "props": {
                "className": "interact-flex-row-left"
               },
               "type": "node"
              },
              {
               "children": [
                {
                 "children": [],
                 "instanceArgs": {
                  "namespace": "html",
                  "tag": "input"
                 },
                 "nodeType": "DOM",
                 "props": {
                  "attributes": {
                   "data-bind": "numericValue: index, valueUpdate: 'input', event: {change: function (){this.changes(this.changes()+1)}}",
                   "orient": "horizontal",
                   "type": "range"
                  },
                  "className": "slider slider is-fullwidth",
                  "max": 100,
                  "min": 1,
                  "step": 1,
                  "style": {}
                 },
                 "type": "node"
                }
               ],
               "instanceArgs": {
                "namespace": "html",
                "tag": "div"
               },
               "nodeType": "DOM",
               "props": {
                "className": "interact-flex-row-center"
               },
               "type": "node"
              },
              {
               "children": [
                {
                 "children": [],
                 "instanceArgs": {
                  "namespace": "html",
                  "tag": "p"
                 },
                 "nodeType": "DOM",
                 "props": {
                  "attributes": {
                   "data-bind": "text: formatted_val"
                  }
                 },
                 "type": "node"
                }
               ],
               "instanceArgs": {
                "namespace": "html",
                "tag": "div"
               },
               "nodeType": "DOM",
               "props": {
                "className": "interact-flex-row-right"
               },
               "type": "node"
              }
             ],
             "instanceArgs": {
              "namespace": "html",
              "tag": "div"
             },
             "nodeType": "DOM",
             "props": {
              "className": "interact-flex-row interact-widget"
             },
             "type": "node"
            }
           ],
           "instanceArgs": {
            "handlers": {
             "changes": [
              "(function (val){return (val!=this.model[\"changes\"]()) ? (this.valueFromJulia[\"changes\"]=true, this.model[\"changes\"](val)) : undefined})"
             ],
             "index": [
              "(function (val){return (val!=this.model[\"index\"]()) ? (this.valueFromJulia[\"index\"]=true, this.model[\"index\"](val)) : undefined})"
             ]
            },
            "id": "scope-b4ebbb85-9c3a-4373-9cc5-d10cfb142d51",
            "imports": {
             "data": [
              {
               "name": "knockout",
               "type": "js",
               "url": "/assetserver/400851c8b8cf7fc10948b385af7e3ef99cb76dbc-knockout.js"
              },
              {
               "name": "knockout_punches",
               "type": "js",
               "url": "/assetserver/318f1c0cec30819eed901ca48cd0d6e3c354c074-knockout_punches.js"
              },
              {
               "name": null,
               "type": "js",
               "url": "/assetserver/d13c5edb54a12e669bfbc85930e20ef091aaf304-all.js"
              },
              {
               "name": null,
               "type": "css",
               "url": "/assetserver/0fe71aa5b2bfaee5384c38af6eda97e785db17a3-style.css"
              },
              {
               "name": null,
               "type": "css",
               "url": "/assetserver/1b90debdb28a966540748729e11344b804f7e6f9-bulma_confined.min.css"
              }
             ],
             "type": "async_block"
            },
            "mount_callbacks": [
             "function () {\n    var handler = (function (ko, koPunches) {\n    ko.punches.enableAll();\n    ko.bindingHandlers.numericValue = {\n        init: function(element, valueAccessor, allBindings, data, context) {\n            var stringified = ko.observable(ko.unwrap(valueAccessor()));\n            stringified.subscribe(function(value) {\n                var val = parseFloat(value);\n                if (!isNaN(val)) {\n                    valueAccessor()(val);\n                }\n            });\n            valueAccessor().subscribe(function(value) {\n                var str = JSON.stringify(value);\n                if ((str == \"0\") && ([\"-0\", \"-0.\"].indexOf(stringified()) >= 0))\n                     return;\n                 if ([\"null\", \"\"].indexOf(str) >= 0)\n                     return;\n                stringified(str);\n            });\n            ko.applyBindingsToNode(\n                element,\n                {\n                    value: stringified,\n                    valueUpdate: allBindings.get('valueUpdate'),\n                },\n                context,\n            );\n        }\n    };\n    var json_data = {\"formatted_vals\":[\"-150.0\",\"-144.949\",\"-139.899\",\"-134.848\",\"-129.798\",\"-124.747\",\"-119.697\",\"-114.646\",\"-109.596\",\"-104.545\",\"-99.4949\",\"-94.4444\",\"-89.3939\",\"-84.3434\",\"-79.2929\",\"-74.2424\",\"-69.1919\",\"-64.1414\",\"-59.0909\",\"-54.0404\",\"-48.9899\",\"-43.9394\",\"-38.8889\",\"-33.8384\",\"-28.7879\",\"-23.7374\",\"-18.6869\",\"-13.6364\",\"-8.58586\",\"-3.53535\",\"1.51515\",\"6.56566\",\"11.6162\",\"16.6667\",\"21.7172\",\"26.7677\",\"31.8182\",\"36.8687\",\"41.9192\",\"46.9697\",\"52.0202\",\"57.0707\",\"62.1212\",\"67.1717\",\"72.2222\",\"77.2727\",\"82.3232\",\"87.3737\",\"92.4242\",\"97.4747\",\"102.525\",\"107.576\",\"112.626\",\"117.677\",\"122.727\",\"127.778\",\"132.828\",\"137.879\",\"142.929\",\"147.98\",\"153.03\",\"158.081\",\"163.131\",\"168.182\",\"173.232\",\"178.283\",\"183.333\",\"188.384\",\"193.434\",\"198.485\",\"203.535\",\"208.586\",\"213.636\",\"218.687\",\"223.737\",\"228.788\",\"233.838\",\"238.889\",\"243.939\",\"248.99\",\"254.04\",\"259.091\",\"264.141\",\"269.192\",\"274.242\",\"279.293\",\"284.343\",\"289.394\",\"294.444\",\"299.495\",\"304.545\",\"309.596\",\"314.646\",\"319.697\",\"324.747\",\"329.798\",\"334.848\",\"339.899\",\"344.949\",\"350.0\"],\"changes\":WebIO.getval({\"name\":\"changes\",\"scope\":\"scope-b4ebbb85-9c3a-4373-9cc5-d10cfb142d51\",\"id\":\"ob_09\",\"type\":\"observable\"}),\"index\":WebIO.getval({\"name\":\"index\",\"scope\":\"scope-b4ebbb85-9c3a-4373-9cc5-d10cfb142d51\",\"id\":\"ob_08\",\"type\":\"observable\"})};\n    var self = this;\n    function AppViewModel() {\n        for (var key in json_data) {\n            var el = json_data[key];\n            this[key] = Array.isArray(el) ? ko.observableArray(el) : ko.observable(el);\n        }\n        \n        [this[\"formatted_val\"]=ko.computed(    function(){\n        return this.formatted_vals()[parseInt(this.index())-(1)];\n    }\n,this)]\n        [this[\"changes\"].subscribe((function (val){!(this.valueFromJulia[\"changes\"]) ? (WebIO.setval({\"name\":\"changes\",\"scope\":\"scope-b4ebbb85-9c3a-4373-9cc5-d10cfb142d51\",\"id\":\"ob_09\",\"type\":\"observable\"},val)) : undefined; return this.valueFromJulia[\"changes\"]=false}),self),this[\"index\"].subscribe((function (val){!(this.valueFromJulia[\"index\"]) ? (WebIO.setval({\"name\":\"index\",\"scope\":\"scope-b4ebbb85-9c3a-4373-9cc5-d10cfb142d51\",\"id\":\"ob_08\",\"type\":\"observable\"},val)) : undefined; return this.valueFromJulia[\"index\"]=false}),self)]\n        \n    }\n    self.model = new AppViewModel();\n    self.valueFromJulia = {};\n    for (var key in json_data) {\n        self.valueFromJulia[key] = false;\n    }\n    ko.applyBindings(self.model, self.dom);\n}\n);\n    (WebIO.importBlock({\"data\":[{\"name\":\"knockout\",\"type\":\"js\",\"url\":\"/assetserver/400851c8b8cf7fc10948b385af7e3ef99cb76dbc-knockout.js\"},{\"name\":\"knockout_punches\",\"type\":\"js\",\"url\":\"/assetserver/318f1c0cec30819eed901ca48cd0d6e3c354c074-knockout_punches.js\"}],\"type\":\"async_block\"})).then((imports) => handler.apply(this, imports));\n}\n"
            ],
            "observables": {
             "changes": {
              "id": "ob_09",
              "sync": false,
              "value": 0
             },
             "index": {
              "id": "ob_08",
              "sync": true,
              "value": 50
             }
            },
            "systemjs_options": null
           },
           "nodeType": "Scope",
           "props": {},
           "type": "node"
          }
         ],
         "instanceArgs": {
          "namespace": "html",
          "tag": "div"
         },
         "nodeType": "DOM",
         "props": {
          "className": "field interact-widget"
         },
         "type": "node"
        },
        {
         "children": [
          {
           "children": [
            {
             "children": [
              {
               "children": [
                {
                 "children": [
                  "γIm"
                 ],
                 "instanceArgs": {
                  "namespace": "html",
                  "tag": "label"
                 },
                 "nodeType": "DOM",
                 "props": {
                  "className": "interact ",
                  "style": {
                   "padding": "5px 10px 0px 10px"
                  }
                 },
                 "type": "node"
                }
               ],
               "instanceArgs": {
                "namespace": "html",
                "tag": "div"
               },
               "nodeType": "DOM",
               "props": {
                "className": "interact-flex-row-left"
               },
               "type": "node"
              },
              {
               "children": [
                {
                 "children": [],
                 "instanceArgs": {
                  "namespace": "html",
                  "tag": "input"
                 },
                 "nodeType": "DOM",
                 "props": {
                  "attributes": {
                   "data-bind": "numericValue: index, valueUpdate: 'input', event: {change: function (){this.changes(this.changes()+1)}}",
                   "orient": "horizontal",
                   "type": "range"
                  },
                  "className": "slider slider is-fullwidth",
                  "max": 100,
                  "min": 1,
                  "step": 1,
                  "style": {}
                 },
                 "type": "node"
                }
               ],
               "instanceArgs": {
                "namespace": "html",
                "tag": "div"
               },
               "nodeType": "DOM",
               "props": {
                "className": "interact-flex-row-center"
               },
               "type": "node"
              },
              {
               "children": [
                {
                 "children": [],
                 "instanceArgs": {
                  "namespace": "html",
                  "tag": "p"
                 },
                 "nodeType": "DOM",
                 "props": {
                  "attributes": {
                   "data-bind": "text: formatted_val"
                  }
                 },
                 "type": "node"
                }
               ],
               "instanceArgs": {
                "namespace": "html",
                "tag": "div"
               },
               "nodeType": "DOM",
               "props": {
                "className": "interact-flex-row-right"
               },
               "type": "node"
              }
             ],
             "instanceArgs": {
              "namespace": "html",
              "tag": "div"
             },
             "nodeType": "DOM",
             "props": {
              "className": "interact-flex-row interact-widget"
             },
             "type": "node"
            }
           ],
           "instanceArgs": {
            "handlers": {
             "changes": [
              "(function (val){return (val!=this.model[\"changes\"]()) ? (this.valueFromJulia[\"changes\"]=true, this.model[\"changes\"](val)) : undefined})"
             ],
             "index": [
              "(function (val){return (val!=this.model[\"index\"]()) ? (this.valueFromJulia[\"index\"]=true, this.model[\"index\"](val)) : undefined})"
             ]
            },
            "id": "scope-839cec23-edd5-4bfc-beb2-e9d94a01022b",
            "imports": {
             "data": [
              {
               "name": "knockout",
               "type": "js",
               "url": "/assetserver/400851c8b8cf7fc10948b385af7e3ef99cb76dbc-knockout.js"
              },
              {
               "name": "knockout_punches",
               "type": "js",
               "url": "/assetserver/318f1c0cec30819eed901ca48cd0d6e3c354c074-knockout_punches.js"
              },
              {
               "name": null,
               "type": "js",
               "url": "/assetserver/d13c5edb54a12e669bfbc85930e20ef091aaf304-all.js"
              },
              {
               "name": null,
               "type": "css",
               "url": "/assetserver/0fe71aa5b2bfaee5384c38af6eda97e785db17a3-style.css"
              },
              {
               "name": null,
               "type": "css",
               "url": "/assetserver/1b90debdb28a966540748729e11344b804f7e6f9-bulma_confined.min.css"
              }
             ],
             "type": "async_block"
            },
            "mount_callbacks": [
             "function () {\n    var handler = (function (ko, koPunches) {\n    ko.punches.enableAll();\n    ko.bindingHandlers.numericValue = {\n        init: function(element, valueAccessor, allBindings, data, context) {\n            var stringified = ko.observable(ko.unwrap(valueAccessor()));\n            stringified.subscribe(function(value) {\n                var val = parseFloat(value);\n                if (!isNaN(val)) {\n                    valueAccessor()(val);\n                }\n            });\n            valueAccessor().subscribe(function(value) {\n                var str = JSON.stringify(value);\n                if ((str == \"0\") && ([\"-0\", \"-0.\"].indexOf(stringified()) >= 0))\n                     return;\n                 if ([\"null\", \"\"].indexOf(str) >= 0)\n                     return;\n                stringified(str);\n            });\n            ko.applyBindingsToNode(\n                element,\n                {\n                    value: stringified,\n                    valueUpdate: allBindings.get('valueUpdate'),\n                },\n                context,\n            );\n        }\n    };\n    var json_data = {\"formatted_vals\":[\"0.0\",\"0.20202\",\"0.40404\",\"0.606061\",\"0.808081\",\"1.0101\",\"1.21212\",\"1.41414\",\"1.61616\",\"1.81818\",\"2.0202\",\"2.22222\",\"2.42424\",\"2.62626\",\"2.82828\",\"3.0303\",\"3.23232\",\"3.43434\",\"3.63636\",\"3.83838\",\"4.0404\",\"4.24242\",\"4.44444\",\"4.64646\",\"4.84848\",\"5.05051\",\"5.25253\",\"5.45455\",\"5.65657\",\"5.85859\",\"6.06061\",\"6.26263\",\"6.46465\",\"6.66667\",\"6.86869\",\"7.07071\",\"7.27273\",\"7.47475\",\"7.67677\",\"7.87879\",\"8.08081\",\"8.28283\",\"8.48485\",\"8.68687\",\"8.88889\",\"9.09091\",\"9.29293\",\"9.49495\",\"9.69697\",\"9.89899\",\"10.101\",\"10.303\",\"10.5051\",\"10.7071\",\"10.9091\",\"11.1111\",\"11.3131\",\"11.5152\",\"11.7172\",\"11.9192\",\"12.1212\",\"12.3232\",\"12.5253\",\"12.7273\",\"12.9293\",\"13.1313\",\"13.3333\",\"13.5354\",\"13.7374\",\"13.9394\",\"14.1414\",\"14.3434\",\"14.5455\",\"14.7475\",\"14.9495\",\"15.1515\",\"15.3535\",\"15.5556\",\"15.7576\",\"15.9596\",\"16.1616\",\"16.3636\",\"16.5657\",\"16.7677\",\"16.9697\",\"17.1717\",\"17.3737\",\"17.5758\",\"17.7778\",\"17.9798\",\"18.1818\",\"18.3838\",\"18.5859\",\"18.7879\",\"18.9899\",\"19.1919\",\"19.3939\",\"19.596\",\"19.798\",\"20.0\"],\"changes\":WebIO.getval({\"name\":\"changes\",\"scope\":\"scope-839cec23-edd5-4bfc-beb2-e9d94a01022b\",\"id\":\"ob_12\",\"type\":\"observable\"}),\"index\":WebIO.getval({\"name\":\"index\",\"scope\":\"scope-839cec23-edd5-4bfc-beb2-e9d94a01022b\",\"id\":\"ob_11\",\"type\":\"observable\"})};\n    var self = this;\n    function AppViewModel() {\n        for (var key in json_data) {\n            var el = json_data[key];\n            this[key] = Array.isArray(el) ? ko.observableArray(el) : ko.observable(el);\n        }\n        \n        [this[\"formatted_val\"]=ko.computed(    function(){\n        return this.formatted_vals()[parseInt(this.index())-(1)];\n    }\n,this)]\n        [this[\"changes\"].subscribe((function (val){!(this.valueFromJulia[\"changes\"]) ? (WebIO.setval({\"name\":\"changes\",\"scope\":\"scope-839cec23-edd5-4bfc-beb2-e9d94a01022b\",\"id\":\"ob_12\",\"type\":\"observable\"},val)) : undefined; return this.valueFromJulia[\"changes\"]=false}),self),this[\"index\"].subscribe((function (val){!(this.valueFromJulia[\"index\"]) ? (WebIO.setval({\"name\":\"index\",\"scope\":\"scope-839cec23-edd5-4bfc-beb2-e9d94a01022b\",\"id\":\"ob_11\",\"type\":\"observable\"},val)) : undefined; return this.valueFromJulia[\"index\"]=false}),self)]\n        \n    }\n    self.model = new AppViewModel();\n    self.valueFromJulia = {};\n    for (var key in json_data) {\n        self.valueFromJulia[key] = false;\n    }\n    ko.applyBindings(self.model, self.dom);\n}\n);\n    (WebIO.importBlock({\"data\":[{\"name\":\"knockout\",\"type\":\"js\",\"url\":\"/assetserver/400851c8b8cf7fc10948b385af7e3ef99cb76dbc-knockout.js\"},{\"name\":\"knockout_punches\",\"type\":\"js\",\"url\":\"/assetserver/318f1c0cec30819eed901ca48cd0d6e3c354c074-knockout_punches.js\"}],\"type\":\"async_block\"})).then((imports) => handler.apply(this, imports));\n}\n"
            ],
            "observables": {
             "changes": {
              "id": "ob_12",
              "sync": false,
              "value": 0
             },
             "index": {
              "id": "ob_11",
              "sync": true,
              "value": 50
             }
            },
            "systemjs_options": null
           },
           "nodeType": "Scope",
           "props": {},
           "type": "node"
          }
         ],
         "instanceArgs": {
          "namespace": "html",
          "tag": "div"
         },
         "nodeType": "DOM",
         "props": {
          "className": "field interact-widget"
         },
         "type": "node"
        },
        {
         "children": [
          {
           "children": [],
           "instanceArgs": {
            "id": "ob_18",
            "name": "obs-node"
           },
           "nodeType": "ObservableNode",
           "props": {},
           "type": "node"
          }
         ],
         "instanceArgs": {
          "handlers": {},
          "id": "scope-6230d174-3af3-4515-b7a0-4fe5dc8a6cd5",
          "imports": {
           "data": [],
           "type": "async_block"
          },
          "mount_callbacks": [],
          "observables": {
           "obs-node": {
            "id": "ob_18",
            "sync": false,
            "value": {
             "children": [
              {
               "children": [],
               "instanceArgs": {
                "namespace": "html",
                "tag": "div"
               },
               "nodeType": "DOM",
               "props": {
                "setInnerHtml": "<?xml version=\"1.0\" encoding=\"utf-8\"?>\n<svg xmlns=\"http://www.w3.org/2000/svg\" xmlns:xlink=\"http://www.w3.org/1999/xlink\" width=\"700\" height=\"800\" viewBox=\"0 0 2800 3200\">\n<defs>\n  <clipPath id=\"clip6100\">\n    <rect x=\"0\" y=\"0\" width=\"2800\" height=\"3200\"/>\n  </clipPath>\n</defs>\n<polygon clip-path=\"url(#clip6100)\" points=\"\n0,3200 2800,3200 2800,0 0,0 \n  \" fill=\"#ffffff\" fill-rule=\"evenodd\" fill-opacity=\"1\"/>\n<defs>\n  <clipPath id=\"clip6101\">\n    <rect x=\"640\" y=\"320\" width=\"2241\" height=\"2241\"/>\n  </clipPath>\n</defs>\n<polygon clip-path=\"url(#clip6100)\" points=\"\n259.041,1231.07 2752.76,1231.07 2752.76,47.2441 259.041,47.2441 \n  \" fill=\"#ffffff\" fill-rule=\"evenodd\" fill-opacity=\"1\"/>\n<defs>\n  <clipPath id=\"clip6102\">\n    <rect x=\"259\" y=\"47\" width=\"2495\" height=\"1185\"/>\n  </clipPath>\n</defs>\n<polyline clip-path=\"url(#clip6102)\" style=\"stroke:#000000; stroke-width:2; stroke-opacity:0.1; fill:none\" points=\"\n  669.584,1231.07 669.584,47.2441 \n  \"/>\n<polyline clip-path=\"url(#clip6102)\" style=\"stroke:#000000; stroke-width:2; stroke-opacity:0.1; fill:none\" points=\"\n  1122.87,1231.07 1122.87,47.2441 \n  \"/>\n<polyline clip-path=\"url(#clip6102)\" style=\"stroke:#000000; stroke-width:2; stroke-opacity:0.1; fill:none\" points=\"\n  1576.16,1231.07 1576.16,47.2441 \n  \"/>\n<polyline clip-path=\"url(#clip6102)\" style=\"stroke:#000000; stroke-width:2; stroke-opacity:0.1; fill:none\" points=\"\n  2029.45,1231.07 2029.45,47.2441 \n  \"/>\n<polyline clip-path=\"url(#clip6102)\" style=\"stroke:#000000; stroke-width:2; stroke-opacity:0.1; fill:none\" points=\"\n  2482.73,1231.07 2482.73,47.2441 \n  \"/>\n<polyline clip-path=\"url(#clip6102)\" style=\"stroke:#000000; stroke-width:2; stroke-opacity:0.1; fill:none\" points=\"\n  259.041,1231.07 2752.76,1231.07 \n  \"/>\n<polyline clip-path=\"url(#clip6102)\" style=\"stroke:#000000; stroke-width:2; stroke-opacity:0.1; fill:none\" points=\"\n  259.041,935.117 2752.76,935.117 \n  \"/>\n<polyline clip-path=\"url(#clip6102)\" style=\"stroke:#000000; stroke-width:2; stroke-opacity:0.1; fill:none\" points=\"\n  259.041,639.16 2752.76,639.16 \n  \"/>\n<polyline clip-path=\"url(#clip6102)\" style=\"stroke:#000000; stroke-width:2; stroke-opacity:0.1; fill:none\" points=\"\n  259.041,343.202 2752.76,343.202 \n  \"/>\n<polyline clip-path=\"url(#clip6102)\" style=\"stroke:#000000; stroke-width:2; stroke-opacity:0.1; fill:none\" points=\"\n  259.041,47.2441 2752.76,47.2441 \n  \"/>\n<polyline clip-path=\"url(#clip6100)\" style=\"stroke:#000000; stroke-width:4; stroke-opacity:1; fill:none\" points=\"\n  259.041,1231.07 2752.76,1231.07 \n  \"/>\n<polyline clip-path=\"url(#clip6100)\" style=\"stroke:#000000; stroke-width:4; stroke-opacity:1; fill:none\" points=\"\n  259.041,1231.07 259.041,47.2441 \n  \"/>\n<polyline clip-path=\"url(#clip6100)\" style=\"stroke:#000000; stroke-width:4; stroke-opacity:1; fill:none\" points=\"\n  669.584,1231.07 669.584,1213.32 \n  \"/>\n<polyline clip-path=\"url(#clip6100)\" style=\"stroke:#000000; stroke-width:4; stroke-opacity:1; fill:none\" points=\"\n  1122.87,1231.07 1122.87,1213.32 \n  \"/>\n<polyline clip-path=\"url(#clip6100)\" style=\"stroke:#000000; stroke-width:4; stroke-opacity:1; fill:none\" points=\"\n  1576.16,1231.07 1576.16,1213.32 \n  \"/>\n<polyline clip-path=\"url(#clip6100)\" style=\"stroke:#000000; stroke-width:4; stroke-opacity:1; fill:none\" points=\"\n  2029.45,1231.07 2029.45,1213.32 \n  \"/>\n<polyline clip-path=\"url(#clip6100)\" style=\"stroke:#000000; stroke-width:4; stroke-opacity:1; fill:none\" points=\"\n  2482.73,1231.07 2482.73,1213.32 \n  \"/>\n<polyline clip-path=\"url(#clip6100)\" style=\"stroke:#000000; stroke-width:4; stroke-opacity:1; fill:none\" points=\"\n  259.041,1231.07 296.447,1231.07 \n  \"/>\n<polyline clip-path=\"url(#clip6100)\" style=\"stroke:#000000; stroke-width:4; stroke-opacity:1; fill:none\" points=\"\n  259.041,935.117 296.447,935.117 \n  \"/>\n<polyline clip-path=\"url(#clip6100)\" style=\"stroke:#000000; stroke-width:4; stroke-opacity:1; fill:none\" points=\"\n  259.041,639.16 296.447,639.16 \n  \"/>\n<polyline clip-path=\"url(#clip6100)\" style=\"stroke:#000000; stroke-width:4; stroke-opacity:1; fill:none\" points=\"\n  259.041,343.202 296.447,343.202 \n  \"/>\n<polyline clip-path=\"url(#clip6100)\" style=\"stroke:#000000; stroke-width:4; stroke-opacity:1; fill:none\" points=\"\n  259.041,47.2441 296.447,47.2441 \n  \"/>\n<g clip-path=\"url(#clip6100)\">\n<text style=\"fill:#000000; fill-opacity:1; font-family:Arial,Helvetica Neue,Helvetica,sans-serif; font-size:48px; text-anchor:middle;\" transform=\"rotate(0, 669.584, 1289.07)\" x=\"669.584\" y=\"1289.07\">18.25</text>\n</g>\n<g clip-path=\"url(#clip6100)\">\n<text style=\"fill:#000000; fill-opacity:1; font-family:Arial,Helvetica Neue,Helvetica,sans-serif; font-size:48px; text-anchor:middle;\" transform=\"rotate(0, 1122.87, 1289.07)\" x=\"1122.87\" y=\"1289.07\">18.50</text>\n</g>\n<g clip-path=\"url(#clip6100)\">\n<text style=\"fill:#000000; fill-opacity:1; font-family:Arial,Helvetica Neue,Helvetica,sans-serif; font-size:48px; text-anchor:middle;\" transform=\"rotate(0, 1576.16, 1289.07)\" x=\"1576.16\" y=\"1289.07\">18.75</text>\n</g>\n<g clip-path=\"url(#clip6100)\">\n<text style=\"fill:#000000; fill-opacity:1; font-family:Arial,Helvetica Neue,Helvetica,sans-serif; font-size:48px; text-anchor:middle;\" transform=\"rotate(0, 2029.45, 1289.07)\" x=\"2029.45\" y=\"1289.07\">19.00</text>\n</g>\n<g clip-path=\"url(#clip6100)\">\n<text style=\"fill:#000000; fill-opacity:1; font-family:Arial,Helvetica Neue,Helvetica,sans-serif; font-size:48px; text-anchor:middle;\" transform=\"rotate(0, 2482.73, 1289.07)\" x=\"2482.73\" y=\"1289.07\">19.25</text>\n</g>\n<g clip-path=\"url(#clip6100)\">\n<text style=\"fill:#000000; fill-opacity:1; font-family:Arial,Helvetica Neue,Helvetica,sans-serif; font-size:48px; text-anchor:end;\" transform=\"rotate(0, 227.041, 1248.57)\" x=\"227.041\" y=\"1248.57\">-5.0</text>\n</g>\n<g clip-path=\"url(#clip6100)\">\n<text style=\"fill:#000000; fill-opacity:1; font-family:Arial,Helvetica Neue,Helvetica,sans-serif; font-size:48px; text-anchor:end;\" transform=\"rotate(0, 227.041, 952.617)\" x=\"227.041\" y=\"952.617\">-2.5</text>\n</g>\n<g clip-path=\"url(#clip6100)\">\n<text style=\"fill:#000000; fill-opacity:1; font-family:Arial,Helvetica Neue,Helvetica,sans-serif; font-size:48px; text-anchor:end;\" transform=\"rotate(0, 227.041, 656.66)\" x=\"227.041\" y=\"656.66\">0.0</text>\n</g>\n<g clip-path=\"url(#clip6100)\">\n<text style=\"fill:#000000; fill-opacity:1; font-family:Arial,Helvetica Neue,Helvetica,sans-serif; font-size:48px; text-anchor:end;\" transform=\"rotate(0, 227.041, 360.702)\" x=\"227.041\" y=\"360.702\">2.5</text>\n</g>\n<g clip-path=\"url(#clip6100)\">\n<text style=\"fill:#000000; fill-opacity:1; font-family:Arial,Helvetica Neue,Helvetica,sans-serif; font-size:48px; text-anchor:end;\" transform=\"rotate(0, 227.041, 64.7441)\" x=\"227.041\" y=\"64.7441\">5.0</text>\n</g>\n<g clip-path=\"url(#clip6100)\">\n<text style=\"fill:#000000; fill-opacity:1; font-family:Arial,Helvetica Neue,Helvetica,sans-serif; font-size:66px; text-anchor:middle;\" transform=\"rotate(0, 1505.9, 1372.94)\" x=\"1505.9\" y=\"1372.94\">mass square (GeV)</text>\n</g>\n<g clip-path=\"url(#clip6100)\">\n<text style=\"fill:#000000; fill-opacity:1; font-family:Arial,Helvetica Neue,Helvetica,sans-serif; font-size:66px; text-anchor:middle;\" transform=\"rotate(-90, 88.4632, 639.16)\" x=\"88.4632\" y=\"639.16\">- half width (MeV)</text>\n</g>\n<polyline clip-path=\"url(#clip6102)\" style=\"stroke:#ff0000; stroke-width:8; stroke-opacity:0.1; fill:none\" points=\"\n  329.618,639.16 2682.18,639.16 \n  \"/>\n<polyline clip-path=\"url(#clip6102)\" style=\"stroke:#ff0000; stroke-width:8; stroke-opacity:1; fill:none\" points=\"\n  1381.62,639.16 2682.18,639.16 \n  \"/>\n<circle clip-path=\"url(#clip6102)\" style=\"fill:#000000; stroke:none; fill-opacity:1\" cx=\"1381.62\" cy=\"639.16\" r=\"14\"/>\n<circle clip-path=\"url(#clip6102)\" style=\"fill:#ff0000; stroke:none; fill-opacity:1\" cx=\"1381.62\" cy=\"639.16\" r=\"10\"/>\n<circle clip-path=\"url(#clip6102)\" style=\"fill:#000000; stroke:none; fill-opacity:1\" cx=\"1313.42\" cy=\"745.089\" r=\"28\"/>\n<circle clip-path=\"url(#clip6102)\" style=\"fill:#800080; stroke:none; fill-opacity:1\" cx=\"1313.42\" cy=\"745.089\" r=\"25\"/>\n<g clip-path=\"url(#clip6100)\">\n<text style=\"fill:#000000; fill-opacity:1; font-family:Arial,Helvetica Neue,Helvetica,sans-serif; font-size:82px; text-anchor:middle;\" transform=\"rotate(0, 1574.16, 598.13)\" x=\"1574.16\" y=\"598.13\">[Dbar Sigmac]</text>\n</g>\n<polygon clip-path=\"url(#clip6100)\" points=\"\n259.041,2100.44 2752.76,2100.44 2752.76,1508.52 259.041,1508.52 \n  \" fill=\"#ffffff\" fill-rule=\"evenodd\" fill-opacity=\"1\"/>\n<defs>\n  <clipPath id=\"clip6103\">\n    <rect x=\"259\" y=\"1508\" width=\"2495\" height=\"593\"/>\n  </clipPath>\n</defs>\n<polyline clip-path=\"url(#clip6103)\" style=\"stroke:#000000; stroke-width:2; stroke-opacity:0.1; fill:none\" points=\"\n  669.584,2100.44 669.584,1508.52 \n  \"/>\n<polyline clip-path=\"url(#clip6103)\" style=\"stroke:#000000; stroke-width:2; stroke-opacity:0.1; fill:none\" points=\"\n  1122.87,2100.44 1122.87,1508.52 \n  \"/>\n<polyline clip-path=\"url(#clip6103)\" style=\"stroke:#000000; stroke-width:2; stroke-opacity:0.1; fill:none\" points=\"\n  1576.16,2100.44 1576.16,1508.52 \n  \"/>\n<polyline clip-path=\"url(#clip6103)\" style=\"stroke:#000000; stroke-width:2; stroke-opacity:0.1; fill:none\" points=\"\n  2029.45,2100.44 2029.45,1508.52 \n  \"/>\n<polyline clip-path=\"url(#clip6103)\" style=\"stroke:#000000; stroke-width:2; stroke-opacity:0.1; fill:none\" points=\"\n  2482.73,2100.44 2482.73,1508.52 \n  \"/>\n<polyline clip-path=\"url(#clip6103)\" style=\"stroke:#000000; stroke-width:2; stroke-opacity:0.1; fill:none\" points=\"\n  259.041,2083.68 2752.76,2083.68 \n  \"/>\n<polyline clip-path=\"url(#clip6103)\" style=\"stroke:#000000; stroke-width:2; stroke-opacity:0.1; fill:none\" points=\"\n  259.041,1952.25 2752.76,1952.25 \n  \"/>\n<polyline clip-path=\"url(#clip6103)\" style=\"stroke:#000000; stroke-width:2; stroke-opacity:0.1; fill:none\" points=\"\n  259.041,1820.82 2752.76,1820.82 \n  \"/>\n<polyline clip-path=\"url(#clip6103)\" style=\"stroke:#000000; stroke-width:2; stroke-opacity:0.1; fill:none\" points=\"\n  259.041,1689.38 2752.76,1689.38 \n  \"/>\n<polyline clip-path=\"url(#clip6103)\" style=\"stroke:#000000; stroke-width:2; stroke-opacity:0.1; fill:none\" points=\"\n  259.041,1557.95 2752.76,1557.95 \n  \"/>\n<polyline clip-path=\"url(#clip6100)\" style=\"stroke:#000000; stroke-width:4; stroke-opacity:1; fill:none\" points=\"\n  259.041,2100.44 2752.76,2100.44 \n  \"/>\n<polyline clip-path=\"url(#clip6100)\" style=\"stroke:#000000; stroke-width:4; stroke-opacity:1; fill:none\" points=\"\n  669.584,2100.44 669.584,2091.56 \n  \"/>\n<polyline clip-path=\"url(#clip6100)\" style=\"stroke:#000000; stroke-width:4; stroke-opacity:1; fill:none\" points=\"\n  1122.87,2100.44 1122.87,2091.56 \n  \"/>\n<polyline clip-path=\"url(#clip6100)\" style=\"stroke:#000000; stroke-width:4; stroke-opacity:1; fill:none\" points=\"\n  1576.16,2100.44 1576.16,2091.56 \n  \"/>\n<polyline clip-path=\"url(#clip6100)\" style=\"stroke:#000000; stroke-width:4; stroke-opacity:1; fill:none\" points=\"\n  2029.45,2100.44 2029.45,2091.56 \n  \"/>\n<polyline clip-path=\"url(#clip6100)\" style=\"stroke:#000000; stroke-width:4; stroke-opacity:1; fill:none\" points=\"\n  2482.73,2100.44 2482.73,2091.56 \n  \"/>\n<g clip-path=\"url(#clip6100)\">\n<text style=\"fill:#000000; fill-opacity:1; font-family:Arial,Helvetica Neue,Helvetica,sans-serif; font-size:48px; text-anchor:middle;\" transform=\"rotate(0, 669.584, 2158.44)\" x=\"669.584\" y=\"2158.44\">18.25</text>\n</g>\n<g clip-path=\"url(#clip6100)\">\n<text style=\"fill:#000000; fill-opacity:1; font-family:Arial,Helvetica Neue,Helvetica,sans-serif; font-size:48px; text-anchor:middle;\" transform=\"rotate(0, 1122.87, 2158.44)\" x=\"1122.87\" y=\"2158.44\">18.50</text>\n</g>\n<g clip-path=\"url(#clip6100)\">\n<text style=\"fill:#000000; fill-opacity:1; font-family:Arial,Helvetica Neue,Helvetica,sans-serif; font-size:48px; text-anchor:middle;\" transform=\"rotate(0, 1576.16, 2158.44)\" x=\"1576.16\" y=\"2158.44\">18.75</text>\n</g>\n<g clip-path=\"url(#clip6100)\">\n<text style=\"fill:#000000; fill-opacity:1; font-family:Arial,Helvetica Neue,Helvetica,sans-serif; font-size:48px; text-anchor:middle;\" transform=\"rotate(0, 2029.45, 2158.44)\" x=\"2029.45\" y=\"2158.44\">19.00</text>\n</g>\n<g clip-path=\"url(#clip6100)\">\n<text style=\"fill:#000000; fill-opacity:1; font-family:Arial,Helvetica Neue,Helvetica,sans-serif; font-size:48px; text-anchor:middle;\" transform=\"rotate(0, 2482.73, 2158.44)\" x=\"2482.73\" y=\"2158.44\">19.25</text>\n</g>\n<g clip-path=\"url(#clip6100)\">\n<text style=\"fill:#000000; fill-opacity:1; font-family:Arial,Helvetica Neue,Helvetica,sans-serif; font-size:66px; text-anchor:middle;\" transform=\"rotate(0, 1505.9, 2242.3)\" x=\"1505.9\" y=\"2242.3\">m(Dbar Sigma) (GeV)</text>\n</g>\n<polyline clip-path=\"url(#clip6103)\" style=\"stroke:#000000; stroke-width:8; stroke-opacity:1; fill:none\" points=\"\n  352.593,2083.68 565.027,2083.68 692.691,2083.68 800.629,2083.68 917.881,2083.68 1025.98,2083.68 1083.92,2083.68 1141.87,2083.68 1209,2083.68 1276.13,2083.68 \n  1305.97,2083.68 1335.8,2083.68 1350.71,2083.68 1365.63,2083.68 1369.36,2083.68 1373.08,2083.68 1374.95,2083.68 1376.81,2083.68 1377.75,2083.68 1378.68,2083.68 \n  1379.61,2083.68 1380.54,2083.68 1381.47,2083.68 1382.41,1956.77 1383.34,1900.43 1384.27,1860.61 1385.2,1829.06 1386.14,1802.74 1387.07,1780.14 1388,1760.35 \n  1389.86,1727.03 1391.73,1699.84 1393.59,1677.13 1395.46,1657.85 1398.73,1630.3 1402,1608.7 1405.27,1591.49 1408.54,1577.64 1411.81,1566.41 1415.08,1557.28 \n  1418.35,1549.86 1421.62,1543.84 1428.16,1535.08 1434.7,1529.64 1441.24,1526.58 1447.78,1525.27 1460.85,1526.28 1473.93,1530.33 1487.01,1536.16 1500.09,1542.99 \n  1557.13,1576.15 1614.17,1607.5 1671.55,1635.05 1728.93,1658.82 1792.37,1681.44 1855.81,1700.97 1916.17,1717.22 1976.54,1731.63 2102.06,1756.99 2207.73,1774.65 \n  2336.73,1792.86 2458,1807.41 2652.28,1826.88 \n  \"/>\n<polygon clip-path=\"url(#clip6100)\" points=\"\n259.041,2969.8 2752.76,2969.8 2752.76,2377.88 259.041,2377.88 \n  \" fill=\"#ffffff\" fill-rule=\"evenodd\" fill-opacity=\"1\"/>\n<defs>\n  <clipPath id=\"clip6104\">\n    <rect x=\"259\" y=\"2377\" width=\"2495\" height=\"593\"/>\n  </clipPath>\n</defs>\n<polyline clip-path=\"url(#clip6104)\" style=\"stroke:#000000; stroke-width:2; stroke-opacity:0.1; fill:none\" points=\"\n  669.584,2969.8 669.584,2377.88 \n  \"/>\n<polyline clip-path=\"url(#clip6104)\" style=\"stroke:#000000; stroke-width:2; stroke-opacity:0.1; fill:none\" points=\"\n  1122.87,2969.8 1122.87,2377.88 \n  \"/>\n<polyline clip-path=\"url(#clip6104)\" style=\"stroke:#000000; stroke-width:2; stroke-opacity:0.1; fill:none\" points=\"\n  1576.16,2969.8 1576.16,2377.88 \n  \"/>\n<polyline clip-path=\"url(#clip6104)\" style=\"stroke:#000000; stroke-width:2; stroke-opacity:0.1; fill:none\" points=\"\n  2029.45,2969.8 2029.45,2377.88 \n  \"/>\n<polyline clip-path=\"url(#clip6104)\" style=\"stroke:#000000; stroke-width:2; stroke-opacity:0.1; fill:none\" points=\"\n  2482.73,2969.8 2482.73,2377.88 \n  \"/>\n<polyline clip-path=\"url(#clip6104)\" style=\"stroke:#000000; stroke-width:2; stroke-opacity:0.1; fill:none\" points=\"\n  259.041,2953.37 2752.76,2953.37 \n  \"/>\n<polyline clip-path=\"url(#clip6104)\" style=\"stroke:#000000; stroke-width:2; stroke-opacity:0.1; fill:none\" points=\"\n  259.041,2775.98 2752.76,2775.98 \n  \"/>\n<polyline clip-path=\"url(#clip6104)\" style=\"stroke:#000000; stroke-width:2; stroke-opacity:0.1; fill:none\" points=\"\n  259.041,2598.6 2752.76,2598.6 \n  \"/>\n<polyline clip-path=\"url(#clip6104)\" style=\"stroke:#000000; stroke-width:2; stroke-opacity:0.1; fill:none\" points=\"\n  259.041,2421.22 2752.76,2421.22 \n  \"/>\n<polyline clip-path=\"url(#clip6100)\" style=\"stroke:#000000; stroke-width:4; stroke-opacity:1; fill:none\" points=\"\n  259.041,2969.8 2752.76,2969.8 \n  \"/>\n<polyline clip-path=\"url(#clip6100)\" style=\"stroke:#000000; stroke-width:4; stroke-opacity:1; fill:none\" points=\"\n  669.584,2969.8 669.584,2960.92 \n  \"/>\n<polyline clip-path=\"url(#clip6100)\" style=\"stroke:#000000; stroke-width:4; stroke-opacity:1; fill:none\" points=\"\n  1122.87,2969.8 1122.87,2960.92 \n  \"/>\n<polyline clip-path=\"url(#clip6100)\" style=\"stroke:#000000; stroke-width:4; stroke-opacity:1; fill:none\" points=\"\n  1576.16,2969.8 1576.16,2960.92 \n  \"/>\n<polyline clip-path=\"url(#clip6100)\" style=\"stroke:#000000; stroke-width:4; stroke-opacity:1; fill:none\" points=\"\n  2029.45,2969.8 2029.45,2960.92 \n  \"/>\n<polyline clip-path=\"url(#clip6100)\" style=\"stroke:#000000; stroke-width:4; stroke-opacity:1; fill:none\" points=\"\n  2482.73,2969.8 2482.73,2960.92 \n  \"/>\n<g clip-path=\"url(#clip6100)\">\n<text style=\"fill:#000000; fill-opacity:1; font-family:Arial,Helvetica Neue,Helvetica,sans-serif; font-size:48px; text-anchor:middle;\" transform=\"rotate(0, 669.584, 3027.8)\" x=\"669.584\" y=\"3027.8\">18.25</text>\n</g>\n<g clip-path=\"url(#clip6100)\">\n<text style=\"fill:#000000; fill-opacity:1; font-family:Arial,Helvetica Neue,Helvetica,sans-serif; font-size:48px; text-anchor:middle;\" transform=\"rotate(0, 1122.87, 3027.8)\" x=\"1122.87\" y=\"3027.8\">18.50</text>\n</g>\n<g clip-path=\"url(#clip6100)\">\n<text style=\"fill:#000000; fill-opacity:1; font-family:Arial,Helvetica Neue,Helvetica,sans-serif; font-size:48px; text-anchor:middle;\" transform=\"rotate(0, 1576.16, 3027.8)\" x=\"1576.16\" y=\"3027.8\">18.75</text>\n</g>\n<g clip-path=\"url(#clip6100)\">\n<text style=\"fill:#000000; fill-opacity:1; font-family:Arial,Helvetica Neue,Helvetica,sans-serif; font-size:48px; text-anchor:middle;\" transform=\"rotate(0, 2029.45, 3027.8)\" x=\"2029.45\" y=\"3027.8\">19.00</text>\n</g>\n<g clip-path=\"url(#clip6100)\">\n<text style=\"fill:#000000; fill-opacity:1; font-family:Arial,Helvetica Neue,Helvetica,sans-serif; font-size:48px; text-anchor:middle;\" transform=\"rotate(0, 2482.73, 3027.8)\" x=\"2482.73\" y=\"3027.8\">19.25</text>\n</g>\n<g clip-path=\"url(#clip6100)\">\n<text style=\"fill:#000000; fill-opacity:1; font-family:Arial,Helvetica Neue,Helvetica,sans-serif; font-size:66px; text-anchor:middle;\" transform=\"rotate(0, 1505.9, 3111.66)\" x=\"1505.9\" y=\"3111.66\">m(Jpsi p) (GeV)</text>\n</g>\n<polyline clip-path=\"url(#clip6104)\" style=\"stroke:#000000; stroke-width:8; stroke-opacity:1; fill:none\" points=\"\n  352.593,2952.74 565.027,2952.48 692.691,2952.22 800.629,2951.87 917.881,2951.21 1025.98,2949.94 1054.95,2949.35 1083.92,2948.58 1112.89,2947.49 1141.87,2945.91 \n  1175.43,2942.9 1209,2937.07 1225.78,2931.74 1242.57,2922.79 1250.96,2915.8 1259.35,2905.82 1263.55,2899.15 1267.74,2890.89 1271.94,2880.48 1276.13,2867.13 \n  1279.86,2851.89 1283.59,2832.24 1285.46,2820.25 1287.32,2806.48 1289.19,2790.61 1291.05,2772.24 1292.91,2750.96 1294.78,2726.3 1296.64,2697.78 1298.51,2664.99 \n  1300.37,2627.74 1302.24,2586.28 1304.1,2541.65 1305.97,2496.1 1306.9,2474.11 1307.83,2453.44 1308.76,2434.8 1309.69,2418.92 1310.63,2406.53 1311.56,2398.27 \n  1312.49,2394.63 1313.42,2395.91 1314.36,2402.11 1315.29,2413.03 1316.22,2428.2 1317.15,2446.97 1319.02,2492.29 1320.88,2542.89 1322.75,2593.66 1324.61,2641.27 \n  1326.47,2683.99 1328.34,2721.28 1330.2,2753.3 1332.07,2780.53 1333.93,2803.6 1335.8,2823.13 1337.66,2839.67 1339.53,2853.73 1341.39,2865.72 1343.25,2876 \n  1346.98,2892.47 1350.71,2904.89 1358.17,2921.87 1365.63,2932.58 1373.08,2939.88 1380.54,2945.88 1388,2948.38 1395.46,2948.9 1421.62,2950.03 1447.78,2950.67 \n  1473.93,2951.1 1500.09,2951.4 1614.17,2952.12 1728.93,2952.44 1855.81,2952.64 1976.54,2952.77 2102.06,2952.85 2207.73,2952.91 2336.73,2952.96 2458,2953 \n  2652.28,2953.05 \n  \"/>\n</svg>\n"
               },
               "type": "node"
              }
             ],
             "instanceArgs": {
              "namespace": "html",
              "tag": "div"
             },
             "nodeType": "DOM",
             "props": {
              "className": "interact-flex-row interact-widget"
             },
             "type": "node"
            }
           }
          },
          "systemjs_options": null
         },
         "nodeType": "Scope",
         "props": {},
         "type": "node"
        }
       ],
       "instanceArgs": {
        "namespace": "html",
        "tag": "div"
       },
       "nodeType": "DOM",
       "props": {},
       "type": "node"
      },
      "text/html": [
       "<div\n",
       "    class=\"webio-mountpoint\"\n",
       "    data-webio-mountpoint=\"13889696028619366225\"\n",
       ">\n",
       "    <script>\n",
       "    if (window.require && require.defined && require.defined(\"nbextensions/webio/main\")) {\n",
       "        console.log(\"Jupyter WebIO extension detected, not mounting.\");\n",
       "    } else if (window.WebIO) {\n",
       "        WebIO.mount(\n",
       "            document.querySelector('[data-webio-mountpoint=\"13889696028619366225\"]'),\n",
       "            {\"props\":{},\"nodeType\":\"DOM\",\"type\":\"node\",\"instanceArgs\":{\"namespace\":\"html\",\"tag\":\"div\"},\"children\":[{\"props\":{\"className\":\"field interact-widget\"},\"nodeType\":\"DOM\",\"type\":\"node\",\"instanceArgs\":{\"namespace\":\"html\",\"tag\":\"div\"},\"children\":[{\"props\":{},\"nodeType\":\"Scope\",\"type\":\"node\",\"instanceArgs\":{\"imports\":{\"data\":[{\"name\":\"knockout\",\"type\":\"js\",\"url\":\"\\/assetserver\\/400851c8b8cf7fc10948b385af7e3ef99cb76dbc-knockout.js\"},{\"name\":\"knockout_punches\",\"type\":\"js\",\"url\":\"\\/assetserver\\/318f1c0cec30819eed901ca48cd0d6e3c354c074-knockout_punches.js\"},{\"name\":null,\"type\":\"js\",\"url\":\"\\/assetserver\\/d13c5edb54a12e669bfbc85930e20ef091aaf304-all.js\"},{\"name\":null,\"type\":\"css\",\"url\":\"\\/assetserver\\/0fe71aa5b2bfaee5384c38af6eda97e785db17a3-style.css\"},{\"name\":null,\"type\":\"css\",\"url\":\"\\/assetserver\\/1b90debdb28a966540748729e11344b804f7e6f9-bulma_confined.min.css\"}],\"type\":\"async_block\"},\"id\":\"scope-b4ebbb85-9c3a-4373-9cc5-d10cfb142d51\",\"handlers\":{\"changes\":[\"(function (val){return (val!=this.model[\\\"changes\\\"]()) ? (this.valueFromJulia[\\\"changes\\\"]=true, this.model[\\\"changes\\\"](val)) : undefined})\"],\"index\":[\"(function (val){return (val!=this.model[\\\"index\\\"]()) ? (this.valueFromJulia[\\\"index\\\"]=true, this.model[\\\"index\\\"](val)) : undefined})\"]},\"systemjs_options\":null,\"mount_callbacks\":[\"function () {\\n    var handler = (function (ko, koPunches) {\\n    ko.punches.enableAll();\\n    ko.bindingHandlers.numericValue = {\\n        init: function(element, valueAccessor, allBindings, data, context) {\\n            var stringified = ko.observable(ko.unwrap(valueAccessor()));\\n            stringified.subscribe(function(value) {\\n                var val = parseFloat(value);\\n                if (!isNaN(val)) {\\n                    valueAccessor()(val);\\n                }\\n            });\\n            valueAccessor().subscribe(function(value) {\\n                var str = JSON.stringify(value);\\n                if ((str == \\\"0\\\") && ([\\\"-0\\\", \\\"-0.\\\"].indexOf(stringified()) >= 0))\\n                     return;\\n                 if ([\\\"null\\\", \\\"\\\"].indexOf(str) >= 0)\\n                     return;\\n                stringified(str);\\n            });\\n            ko.applyBindingsToNode(\\n                element,\\n                {\\n                    value: stringified,\\n                    valueUpdate: allBindings.get('valueUpdate'),\\n                },\\n                context,\\n            );\\n        }\\n    };\\n    var json_data = {\\\"formatted_vals\\\":[\\\"-150.0\\\",\\\"-144.949\\\",\\\"-139.899\\\",\\\"-134.848\\\",\\\"-129.798\\\",\\\"-124.747\\\",\\\"-119.697\\\",\\\"-114.646\\\",\\\"-109.596\\\",\\\"-104.545\\\",\\\"-99.4949\\\",\\\"-94.4444\\\",\\\"-89.3939\\\",\\\"-84.3434\\\",\\\"-79.2929\\\",\\\"-74.2424\\\",\\\"-69.1919\\\",\\\"-64.1414\\\",\\\"-59.0909\\\",\\\"-54.0404\\\",\\\"-48.9899\\\",\\\"-43.9394\\\",\\\"-38.8889\\\",\\\"-33.8384\\\",\\\"-28.7879\\\",\\\"-23.7374\\\",\\\"-18.6869\\\",\\\"-13.6364\\\",\\\"-8.58586\\\",\\\"-3.53535\\\",\\\"1.51515\\\",\\\"6.56566\\\",\\\"11.6162\\\",\\\"16.6667\\\",\\\"21.7172\\\",\\\"26.7677\\\",\\\"31.8182\\\",\\\"36.8687\\\",\\\"41.9192\\\",\\\"46.9697\\\",\\\"52.0202\\\",\\\"57.0707\\\",\\\"62.1212\\\",\\\"67.1717\\\",\\\"72.2222\\\",\\\"77.2727\\\",\\\"82.3232\\\",\\\"87.3737\\\",\\\"92.4242\\\",\\\"97.4747\\\",\\\"102.525\\\",\\\"107.576\\\",\\\"112.626\\\",\\\"117.677\\\",\\\"122.727\\\",\\\"127.778\\\",\\\"132.828\\\",\\\"137.879\\\",\\\"142.929\\\",\\\"147.98\\\",\\\"153.03\\\",\\\"158.081\\\",\\\"163.131\\\",\\\"168.182\\\",\\\"173.232\\\",\\\"178.283\\\",\\\"183.333\\\",\\\"188.384\\\",\\\"193.434\\\",\\\"198.485\\\",\\\"203.535\\\",\\\"208.586\\\",\\\"213.636\\\",\\\"218.687\\\",\\\"223.737\\\",\\\"228.788\\\",\\\"233.838\\\",\\\"238.889\\\",\\\"243.939\\\",\\\"248.99\\\",\\\"254.04\\\",\\\"259.091\\\",\\\"264.141\\\",\\\"269.192\\\",\\\"274.242\\\",\\\"279.293\\\",\\\"284.343\\\",\\\"289.394\\\",\\\"294.444\\\",\\\"299.495\\\",\\\"304.545\\\",\\\"309.596\\\",\\\"314.646\\\",\\\"319.697\\\",\\\"324.747\\\",\\\"329.798\\\",\\\"334.848\\\",\\\"339.899\\\",\\\"344.949\\\",\\\"350.0\\\"],\\\"changes\\\":WebIO.getval({\\\"name\\\":\\\"changes\\\",\\\"scope\\\":\\\"scope-b4ebbb85-9c3a-4373-9cc5-d10cfb142d51\\\",\\\"id\\\":\\\"ob_09\\\",\\\"type\\\":\\\"observable\\\"}),\\\"index\\\":WebIO.getval({\\\"name\\\":\\\"index\\\",\\\"scope\\\":\\\"scope-b4ebbb85-9c3a-4373-9cc5-d10cfb142d51\\\",\\\"id\\\":\\\"ob_08\\\",\\\"type\\\":\\\"observable\\\"})};\\n    var self = this;\\n    function AppViewModel() {\\n        for (var key in json_data) {\\n            var el = json_data[key];\\n            this[key] = Array.isArray(el) ? ko.observableArray(el) : ko.observable(el);\\n        }\\n        \\n        [this[\\\"formatted_val\\\"]=ko.computed(    function(){\\n        return this.formatted_vals()[parseInt(this.index())-(1)];\\n    }\\n,this)]\\n        [this[\\\"changes\\\"].subscribe((function (val){!(this.valueFromJulia[\\\"changes\\\"]) ? (WebIO.setval({\\\"name\\\":\\\"changes\\\",\\\"scope\\\":\\\"scope-b4ebbb85-9c3a-4373-9cc5-d10cfb142d51\\\",\\\"id\\\":\\\"ob_09\\\",\\\"type\\\":\\\"observable\\\"},val)) : undefined; return this.valueFromJulia[\\\"changes\\\"]=false}),self),this[\\\"index\\\"].subscribe((function (val){!(this.valueFromJulia[\\\"index\\\"]) ? (WebIO.setval({\\\"name\\\":\\\"index\\\",\\\"scope\\\":\\\"scope-b4ebbb85-9c3a-4373-9cc5-d10cfb142d51\\\",\\\"id\\\":\\\"ob_08\\\",\\\"type\\\":\\\"observable\\\"},val)) : undefined; return this.valueFromJulia[\\\"index\\\"]=false}),self)]\\n        \\n    }\\n    self.model = new AppViewModel();\\n    self.valueFromJulia = {};\\n    for (var key in json_data) {\\n        self.valueFromJulia[key] = false;\\n    }\\n    ko.applyBindings(self.model, self.dom);\\n}\\n);\\n    (WebIO.importBlock({\\\"data\\\":[{\\\"name\\\":\\\"knockout\\\",\\\"type\\\":\\\"js\\\",\\\"url\\\":\\\"\\/assetserver\\/400851c8b8cf7fc10948b385af7e3ef99cb76dbc-knockout.js\\\"},{\\\"name\\\":\\\"knockout_punches\\\",\\\"type\\\":\\\"js\\\",\\\"url\\\":\\\"\\/assetserver\\/318f1c0cec30819eed901ca48cd0d6e3c354c074-knockout_punches.js\\\"}],\\\"type\\\":\\\"async_block\\\"})).then((imports) => handler.apply(this, imports));\\n}\\n\"],\"observables\":{\"changes\":{\"sync\":false,\"id\":\"ob_09\",\"value\":0},\"index\":{\"sync\":true,\"id\":\"ob_08\",\"value\":50}}},\"children\":[{\"props\":{\"className\":\"interact-flex-row interact-widget\"},\"nodeType\":\"DOM\",\"type\":\"node\",\"instanceArgs\":{\"namespace\":\"html\",\"tag\":\"div\"},\"children\":[{\"props\":{\"className\":\"interact-flex-row-left\"},\"nodeType\":\"DOM\",\"type\":\"node\",\"instanceArgs\":{\"namespace\":\"html\",\"tag\":\"div\"},\"children\":[{\"props\":{\"className\":\"interact \",\"style\":{\"padding\":\"5px 10px 0px 10px\"}},\"nodeType\":\"DOM\",\"type\":\"node\",\"instanceArgs\":{\"namespace\":\"html\",\"tag\":\"label\"},\"children\":[\"γRe\"]}]},{\"props\":{\"className\":\"interact-flex-row-center\"},\"nodeType\":\"DOM\",\"type\":\"node\",\"instanceArgs\":{\"namespace\":\"html\",\"tag\":\"div\"},\"children\":[{\"props\":{\"max\":100,\"min\":1,\"attributes\":{\"type\":\"range\",\"data-bind\":\"numericValue: index, valueUpdate: 'input', event: {change: function (){this.changes(this.changes()+1)}}\",\"orient\":\"horizontal\"},\"step\":1,\"className\":\"slider slider is-fullwidth\",\"style\":{}},\"nodeType\":\"DOM\",\"type\":\"node\",\"instanceArgs\":{\"namespace\":\"html\",\"tag\":\"input\"},\"children\":[]}]},{\"props\":{\"className\":\"interact-flex-row-right\"},\"nodeType\":\"DOM\",\"type\":\"node\",\"instanceArgs\":{\"namespace\":\"html\",\"tag\":\"div\"},\"children\":[{\"props\":{\"attributes\":{\"data-bind\":\"text: formatted_val\"}},\"nodeType\":\"DOM\",\"type\":\"node\",\"instanceArgs\":{\"namespace\":\"html\",\"tag\":\"p\"},\"children\":[]}]}]}]}]},{\"props\":{\"className\":\"field interact-widget\"},\"nodeType\":\"DOM\",\"type\":\"node\",\"instanceArgs\":{\"namespace\":\"html\",\"tag\":\"div\"},\"children\":[{\"props\":{},\"nodeType\":\"Scope\",\"type\":\"node\",\"instanceArgs\":{\"imports\":{\"data\":[{\"name\":\"knockout\",\"type\":\"js\",\"url\":\"\\/assetserver\\/400851c8b8cf7fc10948b385af7e3ef99cb76dbc-knockout.js\"},{\"name\":\"knockout_punches\",\"type\":\"js\",\"url\":\"\\/assetserver\\/318f1c0cec30819eed901ca48cd0d6e3c354c074-knockout_punches.js\"},{\"name\":null,\"type\":\"js\",\"url\":\"\\/assetserver\\/d13c5edb54a12e669bfbc85930e20ef091aaf304-all.js\"},{\"name\":null,\"type\":\"css\",\"url\":\"\\/assetserver\\/0fe71aa5b2bfaee5384c38af6eda97e785db17a3-style.css\"},{\"name\":null,\"type\":\"css\",\"url\":\"\\/assetserver\\/1b90debdb28a966540748729e11344b804f7e6f9-bulma_confined.min.css\"}],\"type\":\"async_block\"},\"id\":\"scope-839cec23-edd5-4bfc-beb2-e9d94a01022b\",\"handlers\":{\"changes\":[\"(function (val){return (val!=this.model[\\\"changes\\\"]()) ? (this.valueFromJulia[\\\"changes\\\"]=true, this.model[\\\"changes\\\"](val)) : undefined})\"],\"index\":[\"(function (val){return (val!=this.model[\\\"index\\\"]()) ? (this.valueFromJulia[\\\"index\\\"]=true, this.model[\\\"index\\\"](val)) : undefined})\"]},\"systemjs_options\":null,\"mount_callbacks\":[\"function () {\\n    var handler = (function (ko, koPunches) {\\n    ko.punches.enableAll();\\n    ko.bindingHandlers.numericValue = {\\n        init: function(element, valueAccessor, allBindings, data, context) {\\n            var stringified = ko.observable(ko.unwrap(valueAccessor()));\\n            stringified.subscribe(function(value) {\\n                var val = parseFloat(value);\\n                if (!isNaN(val)) {\\n                    valueAccessor()(val);\\n                }\\n            });\\n            valueAccessor().subscribe(function(value) {\\n                var str = JSON.stringify(value);\\n                if ((str == \\\"0\\\") && ([\\\"-0\\\", \\\"-0.\\\"].indexOf(stringified()) >= 0))\\n                     return;\\n                 if ([\\\"null\\\", \\\"\\\"].indexOf(str) >= 0)\\n                     return;\\n                stringified(str);\\n            });\\n            ko.applyBindingsToNode(\\n                element,\\n                {\\n                    value: stringified,\\n                    valueUpdate: allBindings.get('valueUpdate'),\\n                },\\n                context,\\n            );\\n        }\\n    };\\n    var json_data = {\\\"formatted_vals\\\":[\\\"0.0\\\",\\\"0.20202\\\",\\\"0.40404\\\",\\\"0.606061\\\",\\\"0.808081\\\",\\\"1.0101\\\",\\\"1.21212\\\",\\\"1.41414\\\",\\\"1.61616\\\",\\\"1.81818\\\",\\\"2.0202\\\",\\\"2.22222\\\",\\\"2.42424\\\",\\\"2.62626\\\",\\\"2.82828\\\",\\\"3.0303\\\",\\\"3.23232\\\",\\\"3.43434\\\",\\\"3.63636\\\",\\\"3.83838\\\",\\\"4.0404\\\",\\\"4.24242\\\",\\\"4.44444\\\",\\\"4.64646\\\",\\\"4.84848\\\",\\\"5.05051\\\",\\\"5.25253\\\",\\\"5.45455\\\",\\\"5.65657\\\",\\\"5.85859\\\",\\\"6.06061\\\",\\\"6.26263\\\",\\\"6.46465\\\",\\\"6.66667\\\",\\\"6.86869\\\",\\\"7.07071\\\",\\\"7.27273\\\",\\\"7.47475\\\",\\\"7.67677\\\",\\\"7.87879\\\",\\\"8.08081\\\",\\\"8.28283\\\",\\\"8.48485\\\",\\\"8.68687\\\",\\\"8.88889\\\",\\\"9.09091\\\",\\\"9.29293\\\",\\\"9.49495\\\",\\\"9.69697\\\",\\\"9.89899\\\",\\\"10.101\\\",\\\"10.303\\\",\\\"10.5051\\\",\\\"10.7071\\\",\\\"10.9091\\\",\\\"11.1111\\\",\\\"11.3131\\\",\\\"11.5152\\\",\\\"11.7172\\\",\\\"11.9192\\\",\\\"12.1212\\\",\\\"12.3232\\\",\\\"12.5253\\\",\\\"12.7273\\\",\\\"12.9293\\\",\\\"13.1313\\\",\\\"13.3333\\\",\\\"13.5354\\\",\\\"13.7374\\\",\\\"13.9394\\\",\\\"14.1414\\\",\\\"14.3434\\\",\\\"14.5455\\\",\\\"14.7475\\\",\\\"14.9495\\\",\\\"15.1515\\\",\\\"15.3535\\\",\\\"15.5556\\\",\\\"15.7576\\\",\\\"15.9596\\\",\\\"16.1616\\\",\\\"16.3636\\\",\\\"16.5657\\\",\\\"16.7677\\\",\\\"16.9697\\\",\\\"17.1717\\\",\\\"17.3737\\\",\\\"17.5758\\\",\\\"17.7778\\\",\\\"17.9798\\\",\\\"18.1818\\\",\\\"18.3838\\\",\\\"18.5859\\\",\\\"18.7879\\\",\\\"18.9899\\\",\\\"19.1919\\\",\\\"19.3939\\\",\\\"19.596\\\",\\\"19.798\\\",\\\"20.0\\\"],\\\"changes\\\":WebIO.getval({\\\"name\\\":\\\"changes\\\",\\\"scope\\\":\\\"scope-839cec23-edd5-4bfc-beb2-e9d94a01022b\\\",\\\"id\\\":\\\"ob_12\\\",\\\"type\\\":\\\"observable\\\"}),\\\"index\\\":WebIO.getval({\\\"name\\\":\\\"index\\\",\\\"scope\\\":\\\"scope-839cec23-edd5-4bfc-beb2-e9d94a01022b\\\",\\\"id\\\":\\\"ob_11\\\",\\\"type\\\":\\\"observable\\\"})};\\n    var self = this;\\n    function AppViewModel() {\\n        for (var key in json_data) {\\n            var el = json_data[key];\\n            this[key] = Array.isArray(el) ? ko.observableArray(el) : ko.observable(el);\\n        }\\n        \\n        [this[\\\"formatted_val\\\"]=ko.computed(    function(){\\n        return this.formatted_vals()[parseInt(this.index())-(1)];\\n    }\\n,this)]\\n        [this[\\\"changes\\\"].subscribe((function (val){!(this.valueFromJulia[\\\"changes\\\"]) ? (WebIO.setval({\\\"name\\\":\\\"changes\\\",\\\"scope\\\":\\\"scope-839cec23-edd5-4bfc-beb2-e9d94a01022b\\\",\\\"id\\\":\\\"ob_12\\\",\\\"type\\\":\\\"observable\\\"},val)) : undefined; return this.valueFromJulia[\\\"changes\\\"]=false}),self),this[\\\"index\\\"].subscribe((function (val){!(this.valueFromJulia[\\\"index\\\"]) ? (WebIO.setval({\\\"name\\\":\\\"index\\\",\\\"scope\\\":\\\"scope-839cec23-edd5-4bfc-beb2-e9d94a01022b\\\",\\\"id\\\":\\\"ob_11\\\",\\\"type\\\":\\\"observable\\\"},val)) : undefined; return this.valueFromJulia[\\\"index\\\"]=false}),self)]\\n        \\n    }\\n    self.model = new AppViewModel();\\n    self.valueFromJulia = {};\\n    for (var key in json_data) {\\n        self.valueFromJulia[key] = false;\\n    }\\n    ko.applyBindings(self.model, self.dom);\\n}\\n);\\n    (WebIO.importBlock({\\\"data\\\":[{\\\"name\\\":\\\"knockout\\\",\\\"type\\\":\\\"js\\\",\\\"url\\\":\\\"\\/assetserver\\/400851c8b8cf7fc10948b385af7e3ef99cb76dbc-knockout.js\\\"},{\\\"name\\\":\\\"knockout_punches\\\",\\\"type\\\":\\\"js\\\",\\\"url\\\":\\\"\\/assetserver\\/318f1c0cec30819eed901ca48cd0d6e3c354c074-knockout_punches.js\\\"}],\\\"type\\\":\\\"async_block\\\"})).then((imports) => handler.apply(this, imports));\\n}\\n\"],\"observables\":{\"changes\":{\"sync\":false,\"id\":\"ob_12\",\"value\":0},\"index\":{\"sync\":true,\"id\":\"ob_11\",\"value\":50}}},\"children\":[{\"props\":{\"className\":\"interact-flex-row interact-widget\"},\"nodeType\":\"DOM\",\"type\":\"node\",\"instanceArgs\":{\"namespace\":\"html\",\"tag\":\"div\"},\"children\":[{\"props\":{\"className\":\"interact-flex-row-left\"},\"nodeType\":\"DOM\",\"type\":\"node\",\"instanceArgs\":{\"namespace\":\"html\",\"tag\":\"div\"},\"children\":[{\"props\":{\"className\":\"interact \",\"style\":{\"padding\":\"5px 10px 0px 10px\"}},\"nodeType\":\"DOM\",\"type\":\"node\",\"instanceArgs\":{\"namespace\":\"html\",\"tag\":\"label\"},\"children\":[\"γIm\"]}]},{\"props\":{\"className\":\"interact-flex-row-center\"},\"nodeType\":\"DOM\",\"type\":\"node\",\"instanceArgs\":{\"namespace\":\"html\",\"tag\":\"div\"},\"children\":[{\"props\":{\"max\":100,\"min\":1,\"attributes\":{\"type\":\"range\",\"data-bind\":\"numericValue: index, valueUpdate: 'input', event: {change: function (){this.changes(this.changes()+1)}}\",\"orient\":\"horizontal\"},\"step\":1,\"className\":\"slider slider is-fullwidth\",\"style\":{}},\"nodeType\":\"DOM\",\"type\":\"node\",\"instanceArgs\":{\"namespace\":\"html\",\"tag\":\"input\"},\"children\":[]}]},{\"props\":{\"className\":\"interact-flex-row-right\"},\"nodeType\":\"DOM\",\"type\":\"node\",\"instanceArgs\":{\"namespace\":\"html\",\"tag\":\"div\"},\"children\":[{\"props\":{\"attributes\":{\"data-bind\":\"text: formatted_val\"}},\"nodeType\":\"DOM\",\"type\":\"node\",\"instanceArgs\":{\"namespace\":\"html\",\"tag\":\"p\"},\"children\":[]}]}]}]}]},{\"props\":{},\"nodeType\":\"Scope\",\"type\":\"node\",\"instanceArgs\":{\"imports\":{\"data\":[],\"type\":\"async_block\"},\"id\":\"scope-5e6e4882-c5dc-4d18-87a8-4e146788de0c\",\"handlers\":{},\"systemjs_options\":null,\"mount_callbacks\":[],\"observables\":{\"obs-node\":{\"sync\":false,\"id\":\"ob_16\",\"value\":{\"props\":{\"className\":\"interact-flex-row interact-widget\"},\"nodeType\":\"DOM\",\"type\":\"node\",\"instanceArgs\":{\"namespace\":\"html\",\"tag\":\"div\"},\"children\":[{\"props\":{\"setInnerHtml\":\"<?xml version=\\\"1.0\\\" encoding=\\\"utf-8\\\"?>\\n<svg xmlns=\\\"http:\\/\\/www.w3.org\\/2000\\/svg\\\" xmlns:xlink=\\\"http:\\/\\/www.w3.org\\/1999\\/xlink\\\" width=\\\"700\\\" height=\\\"800\\\" viewBox=\\\"0 0 2800 3200\\\">\\n<defs>\\n  <clipPath id=\\\"clip5700\\\">\\n    <rect x=\\\"0\\\" y=\\\"0\\\" width=\\\"2800\\\" height=\\\"3200\\\"\\/>\\n  <\\/clipPath>\\n<\\/defs>\\n<polygon clip-path=\\\"url(#clip5700)\\\" points=\\\"\\n0,3200 2800,3200 2800,0 0,0 \\n  \\\" fill=\\\"#ffffff\\\" fill-rule=\\\"evenodd\\\" fill-opacity=\\\"1\\\"\\/>\\n<defs>\\n  <clipPath id=\\\"clip5701\\\">\\n    <rect x=\\\"640\\\" y=\\\"320\\\" width=\\\"2241\\\" height=\\\"2241\\\"\\/>\\n  <\\/clipPath>\\n<\\/defs>\\n<polygon clip-path=\\\"url(#clip5700)\\\" points=\\\"\\n243.864,1314.81 2752.76,1314.81 2752.76,47.2441 243.864,47.2441 \\n  \\\" fill=\\\"#ffffff\\\" fill-rule=\\\"evenodd\\\" fill-opacity=\\\"1\\\"\\/>\\n<defs>\\n  <clipPath id=\\\"clip5702\\\">\\n    <rect x=\\\"243\\\" y=\\\"47\\\" width=\\\"2510\\\" height=\\\"1269\\\"\\/>\\n  <\\/clipPath>\\n<\\/defs>\\n<polyline clip-path=\\\"url(#clip5702)\\\" style=\\\"stroke:#000000; stroke-width:2; stroke-opacity:0.1; fill:none\\\" points=\\\"\\n  656.905,1314.81 656.905,47.2441 \\n  \\\"\\/>\\n<polyline clip-path=\\\"url(#clip5702)\\\" style=\\\"stroke:#000000; stroke-width:2; stroke-opacity:0.1; fill:none\\\" points=\\\"\\n  1112.95,1314.81 1112.95,47.2441 \\n  \\\"\\/>\\n<polyline clip-path=\\\"url(#clip5702)\\\" style=\\\"stroke:#000000; stroke-width:2; stroke-opacity:0.1; fill:none\\\" points=\\\"\\n  1569,1314.81 1569,47.2441 \\n  \\\"\\/>\\n<polyline clip-path=\\\"url(#clip5702)\\\" style=\\\"stroke:#000000; stroke-width:2; stroke-opacity:0.1; fill:none\\\" points=\\\"\\n  2025.04,1314.81 2025.04,47.2441 \\n  \\\"\\/>\\n<polyline clip-path=\\\"url(#clip5702)\\\" style=\\\"stroke:#000000; stroke-width:2; stroke-opacity:0.1; fill:none\\\" points=\\\"\\n  2481.09,1314.81 2481.09,47.2441 \\n  \\\"\\/>\\n<polyline clip-path=\\\"url(#clip5702)\\\" style=\\\"stroke:#000000; stroke-width:2; stroke-opacity:0.1; fill:none\\\" points=\\\"\\n  243.864,1314.81 2752.76,1314.81 \\n  \\\"\\/>\\n<polyline clip-path=\\\"url(#clip5702)\\\" style=\\\"stroke:#000000; stroke-width:2; stroke-opacity:0.1; fill:none\\\" points=\\\"\\n  243.864,997.915 2752.76,997.915 \\n  \\\"\\/>\\n<polyline clip-path=\\\"url(#clip5702)\\\" style=\\\"stroke:#000000; stroke-width:2; stroke-opacity:0.1; fill:none\\\" points=\\\"\\n  243.864,681.025 2752.76,681.025 \\n  \\\"\\/>\\n<polyline clip-path=\\\"url(#clip5702)\\\" style=\\\"stroke:#000000; stroke-width:2; stroke-opacity:0.1; fill:none\\\" points=\\\"\\n  243.864,364.135 2752.76,364.135 \\n  \\\"\\/>\\n<polyline clip-path=\\\"url(#clip5702)\\\" style=\\\"stroke:#000000; stroke-width:2; stroke-opacity:0.1; fill:none\\\" points=\\\"\\n  243.864,47.2441 2752.76,47.2441 \\n  \\\"\\/>\\n<polyline clip-path=\\\"url(#clip5700)\\\" style=\\\"stroke:#000000; stroke-width:4; stroke-opacity:1; fill:none\\\" points=\\\"\\n  243.864,1314.81 2752.76,1314.81 \\n  \\\"\\/>\\n<polyline clip-path=\\\"url(#clip5700)\\\" style=\\\"stroke:#000000; stroke-width:4; stroke-opacity:1; fill:none\\\" points=\\\"\\n  243.864,1314.81 243.864,47.2441 \\n  \\\"\\/>\\n<polyline clip-path=\\\"url(#clip5700)\\\" style=\\\"stroke:#000000; stroke-width:4; stroke-opacity:1; fill:none\\\" points=\\\"\\n  656.905,1314.81 656.905,1295.79 \\n  \\\"\\/>\\n<polyline clip-path=\\\"url(#clip5700)\\\" style=\\\"stroke:#000000; stroke-width:4; stroke-opacity:1; fill:none\\\" points=\\\"\\n  1112.95,1314.81 1112.95,1295.79 \\n  \\\"\\/>\\n<polyline clip-path=\\\"url(#clip5700)\\\" style=\\\"stroke:#000000; stroke-width:4; stroke-opacity:1; fill:none\\\" points=\\\"\\n  1569,1314.81 1569,1295.79 \\n  \\\"\\/>\\n<polyline clip-path=\\\"url(#clip5700)\\\" style=\\\"stroke:#000000; stroke-width:4; stroke-opacity:1; fill:none\\\" points=\\\"\\n  2025.04,1314.81 2025.04,1295.79 \\n  \\\"\\/>\\n<polyline clip-path=\\\"url(#clip5700)\\\" style=\\\"stroke:#000000; stroke-width:4; stroke-opacity:1; fill:none\\\" points=\\\"\\n  2481.09,1314.81 2481.09,1295.79 \\n  \\\"\\/>\\n<polyline clip-path=\\\"url(#clip5700)\\\" style=\\\"stroke:#000000; stroke-width:4; stroke-opacity:1; fill:none\\\" points=\\\"\\n  243.864,1314.81 281.498,1314.81 \\n  \\\"\\/>\\n<polyline clip-path=\\\"url(#clip5700)\\\" style=\\\"stroke:#000000; stroke-width:4; stroke-opacity:1; fill:none\\\" points=\\\"\\n  243.864,997.915 281.498,997.915 \\n  \\\"\\/>\\n<polyline clip-path=\\\"url(#clip5700)\\\" style=\\\"stroke:#000000; stroke-width:4; stroke-opacity:1; fill:none\\\" points=\\\"\\n  243.864,681.025 281.498,681.025 \\n  \\\"\\/>\\n<polyline clip-path=\\\"url(#clip5700)\\\" style=\\\"stroke:#000000; stroke-width:4; stroke-opacity:1; fill:none\\\" points=\\\"\\n  243.864,364.135 281.498,364.135 \\n  \\\"\\/>\\n<polyline clip-path=\\\"url(#clip5700)\\\" style=\\\"stroke:#000000; stroke-width:4; stroke-opacity:1; fill:none\\\" points=\\\"\\n  243.864,47.2441 281.498,47.2441 \\n  \\\"\\/>\\n<g clip-path=\\\"url(#clip5700)\\\">\\n<text style=\\\"fill:#000000; fill-opacity:1; font-family:Arial,Helvetica Neue,Helvetica,sans-serif; font-size:48px; text-anchor:middle;\\\" transform=\\\"rotate(0, 656.905, 1372.81)\\\" x=\\\"656.905\\\" y=\\\"1372.81\\\">18.25<\\/text>\\n<\\/g>\\n<g clip-path=\\\"url(#clip5700)\\\">\\n<text style=\\\"fill:#000000; fill-opacity:1; font-family:Arial,Helvetica Neue,Helvetica,sans-serif; font-size:48px; text-anchor:middle;\\\" transform=\\\"rotate(0, 1112.95, 1372.81)\\\" x=\\\"1112.95\\\" y=\\\"1372.81\\\">18.50<\\/text>\\n<\\/g>\\n<g clip-path=\\\"url(#clip5700)\\\">\\n<text style=\\\"fill:#000000; fill-opacity:1; font-family:Arial,Helvetica Neue,Helvetica,sans-serif; font-size:48px; text-anchor:middle;\\\" transform=\\\"rotate(0, 1569, 1372.81)\\\" x=\\\"1569\\\" y=\\\"1372.81\\\">18.75<\\/text>\\n<\\/g>\\n<g clip-path=\\\"url(#clip5700)\\\">\\n<text style=\\\"fill:#000000; fill-opacity:1; font-family:Arial,Helvetica Neue,Helvetica,sans-serif; font-size:48px; text-anchor:middle;\\\" transform=\\\"rotate(0, 2025.04, 1372.81)\\\" x=\\\"2025.04\\\" y=\\\"1372.81\\\">19.00<\\/text>\\n<\\/g>\\n<g clip-path=\\\"url(#clip5700)\\\">\\n<text style=\\\"fill:#000000; fill-opacity:1; font-family:Arial,Helvetica Neue,Helvetica,sans-serif; font-size:48px; text-anchor:middle;\\\" transform=\\\"rotate(0, 2481.09, 1372.81)\\\" x=\\\"2481.09\\\" y=\\\"1372.81\\\">19.25<\\/text>\\n<\\/g>\\n<g clip-path=\\\"url(#clip5700)\\\">\\n<text style=\\\"fill:#000000; fill-opacity:1; font-family:Arial,Helvetica Neue,Helvetica,sans-serif; font-size:48px; text-anchor:end;\\\" transform=\\\"rotate(0, 211.864, 1332.31)\\\" x=\\\"211.864\\\" y=\\\"1332.31\\\">-5.0<\\/text>\\n<\\/g>\\n<g clip-path=\\\"url(#clip5700)\\\">\\n<text style=\\\"fill:#000000; fill-opacity:1; font-family:Arial,Helvetica Neue,Helvetica,sans-serif; font-size:48px; text-anchor:end;\\\" transform=\\\"rotate(0, 211.864, 1015.42)\\\" x=\\\"211.864\\\" y=\\\"1015.42\\\">-2.5<\\/text>\\n<\\/g>\\n<g clip-path=\\\"url(#clip5700)\\\">\\n<text style=\\\"fill:#000000; fill-opacity:1; font-family:Arial,Helvetica Neue,Helvetica,sans-serif; font-size:48px; text-anchor:end;\\\" transform=\\\"rotate(0, 211.864, 698.525)\\\" x=\\\"211.864\\\" y=\\\"698.525\\\">0.0<\\/text>\\n<\\/g>\\n<g clip-path=\\\"url(#clip5700)\\\">\\n<text style=\\\"fill:#000000; fill-opacity:1; font-family:Arial,Helvetica Neue,Helvetica,sans-serif; font-size:48px; text-anchor:end;\\\" transform=\\\"rotate(0, 211.864, 381.635)\\\" x=\\\"211.864\\\" y=\\\"381.635\\\">2.5<\\/text>\\n<\\/g>\\n<g clip-path=\\\"url(#clip5700)\\\">\\n<text style=\\\"fill:#000000; fill-opacity:1; font-family:Arial,Helvetica Neue,Helvetica,sans-serif; font-size:48px; text-anchor:end;\\\" transform=\\\"rotate(0, 211.864, 64.7441)\\\" x=\\\"211.864\\\" y=\\\"64.7441\\\">5.0<\\/text>\\n<\\/g>\\n<g clip-path=\\\"url(#clip5700)\\\">\\n<text style=\\\"fill:#000000; fill-opacity:1; font-family:Arial,Helvetica Neue,Helvetica,sans-serif; font-size:66px; text-anchor:middle;\\\" transform=\\\"rotate(0, 1498.31, 1456.67)\\\" x=\\\"1498.31\\\" y=\\\"1456.67\\\">mass square (GeV)<\\/text>\\n<\\/g>\\n<g clip-path=\\\"url(#clip5700)\\\">\\n<text style=\\\"fill:#000000; fill-opacity:1; font-family:Arial,Helvetica Neue,Helvetica,sans-serif; font-size:66px; text-anchor:middle;\\\" transform=\\\"rotate(-90, 73.2861, 681.025)\\\" x=\\\"73.2861\\\" y=\\\"681.025\\\">- half width (MeV)<\\/text>\\n<\\/g>\\n<polyline clip-path=\\\"url(#clip5702)\\\" style=\\\"stroke:#ff0000; stroke-width:8; stroke-opacity:0.1; fill:none\\\" points=\\\"\\n  314.871,681.025 2681.75,681.025 \\n  \\\"\\/>\\n<polyline clip-path=\\\"url(#clip5702)\\\" style=\\\"stroke:#ff0000; stroke-width:8; stroke-opacity:1; fill:none\\\" points=\\\"\\n  1373.27,681.025 2681.75,681.025 \\n  \\\"\\/>\\n<circle clip-path=\\\"url(#clip5702)\\\" style=\\\"fill:#000000; stroke:none; fill-opacity:1\\\" cx=\\\"1373.27\\\" cy=\\\"681.025\\\" r=\\\"14\\\"\\/>\\n<circle clip-path=\\\"url(#clip5702)\\\" style=\\\"fill:#ff0000; stroke:none; fill-opacity:1\\\" cx=\\\"1373.27\\\" cy=\\\"681.025\\\" r=\\\"10\\\"\\/>\\n<circle clip-path=\\\"url(#clip5702)\\\" style=\\\"fill:#000000; stroke:none; fill-opacity:1\\\" cx=\\\"1304.66\\\" cy=\\\"794.447\\\" r=\\\"28\\\"\\/>\\n<circle clip-path=\\\"url(#clip5702)\\\" style=\\\"fill:#800080; stroke:none; fill-opacity:1\\\" cx=\\\"1304.66\\\" cy=\\\"794.447\\\" r=\\\"25\\\"\\/>\\n<g clip-path=\\\"url(#clip5700)\\\">\\n<text style=\\\"fill:#000000; fill-opacity:1; font-family:Arial,Helvetica Neue,Helvetica,sans-serif; font-size:82px; text-anchor:middle;\\\" transform=\\\"rotate(0, 1566.99, 634.971)\\\" x=\\\"1566.99\\\" y=\\\"634.971\\\">[Dbar Sigmac]<\\/text>\\n<\\/g>\\n<polygon clip-path=\\\"url(#clip5700)\\\" points=\\\"\\n243.864,2170.21 2752.76,2170.21 2752.76,1536.43 243.864,1536.43 \\n  \\\" fill=\\\"#ffffff\\\" fill-rule=\\\"evenodd\\\" fill-opacity=\\\"1\\\"\\/>\\n<defs>\\n  <clipPath id=\\\"clip5703\\\">\\n    <rect x=\\\"243\\\" y=\\\"1536\\\" width=\\\"2510\\\" height=\\\"635\\\"\\/>\\n  <\\/clipPath>\\n<\\/defs>\\n<polyline clip-path=\\\"url(#clip5703)\\\" style=\\\"stroke:#000000; stroke-width:2; stroke-opacity:0.1; fill:none\\\" points=\\\"\\n  656.905,2170.21 656.905,1536.43 \\n  \\\"\\/>\\n<polyline clip-path=\\\"url(#clip5703)\\\" style=\\\"stroke:#000000; stroke-width:2; stroke-opacity:0.1; fill:none\\\" points=\\\"\\n  1112.95,2170.21 1112.95,1536.43 \\n  \\\"\\/>\\n<polyline clip-path=\\\"url(#clip5703)\\\" style=\\\"stroke:#000000; stroke-width:2; stroke-opacity:0.1; fill:none\\\" points=\\\"\\n  1569,2170.21 1569,1536.43 \\n  \\\"\\/>\\n<polyline clip-path=\\\"url(#clip5703)\\\" style=\\\"stroke:#000000; stroke-width:2; stroke-opacity:0.1; fill:none\\\" points=\\\"\\n  2025.04,2170.21 2025.04,1536.43 \\n  \\\"\\/>\\n<polyline clip-path=\\\"url(#clip5703)\\\" style=\\\"stroke:#000000; stroke-width:2; stroke-opacity:0.1; fill:none\\\" points=\\\"\\n  2481.09,2170.21 2481.09,1536.43 \\n  \\\"\\/>\\n<polyline clip-path=\\\"url(#clip5703)\\\" style=\\\"stroke:#000000; stroke-width:2; stroke-opacity:0.1; fill:none\\\" points=\\\"\\n  243.864,2152.28 2752.76,2152.28 \\n  \\\"\\/>\\n<polyline clip-path=\\\"url(#clip5703)\\\" style=\\\"stroke:#000000; stroke-width:2; stroke-opacity:0.1; fill:none\\\" points=\\\"\\n  243.864,2011.55 2752.76,2011.55 \\n  \\\"\\/>\\n<polyline clip-path=\\\"url(#clip5703)\\\" style=\\\"stroke:#000000; stroke-width:2; stroke-opacity:0.1; fill:none\\\" points=\\\"\\n  243.864,1870.82 2752.76,1870.82 \\n  \\\"\\/>\\n<polyline clip-path=\\\"url(#clip5703)\\\" style=\\\"stroke:#000000; stroke-width:2; stroke-opacity:0.1; fill:none\\\" points=\\\"\\n  243.864,1730.09 2752.76,1730.09 \\n  \\\"\\/>\\n<polyline clip-path=\\\"url(#clip5703)\\\" style=\\\"stroke:#000000; stroke-width:2; stroke-opacity:0.1; fill:none\\\" points=\\\"\\n  243.864,1589.36 2752.76,1589.36 \\n  \\\"\\/>\\n<polyline clip-path=\\\"url(#clip5700)\\\" style=\\\"stroke:#000000; stroke-width:4; stroke-opacity:1; fill:none\\\" points=\\\"\\n  243.864,2170.21 2752.76,2170.21 \\n  \\\"\\/>\\n<polyline clip-path=\\\"url(#clip5700)\\\" style=\\\"stroke:#000000; stroke-width:4; stroke-opacity:1; fill:none\\\" points=\\\"\\n  656.905,2170.21 656.905,2160.71 \\n  \\\"\\/>\\n<polyline clip-path=\\\"url(#clip5700)\\\" style=\\\"stroke:#000000; stroke-width:4; stroke-opacity:1; fill:none\\\" points=\\\"\\n  1112.95,2170.21 1112.95,2160.71 \\n  \\\"\\/>\\n<polyline clip-path=\\\"url(#clip5700)\\\" style=\\\"stroke:#000000; stroke-width:4; stroke-opacity:1; fill:none\\\" points=\\\"\\n  1569,2170.21 1569,2160.71 \\n  \\\"\\/>\\n<polyline clip-path=\\\"url(#clip5700)\\\" style=\\\"stroke:#000000; stroke-width:4; stroke-opacity:1; fill:none\\\" points=\\\"\\n  2025.04,2170.21 2025.04,2160.71 \\n  \\\"\\/>\\n<polyline clip-path=\\\"url(#clip5700)\\\" style=\\\"stroke:#000000; stroke-width:4; stroke-opacity:1; fill:none\\\" points=\\\"\\n  2481.09,2170.21 2481.09,2160.71 \\n  \\\"\\/>\\n<g clip-path=\\\"url(#clip5700)\\\">\\n<text style=\\\"fill:#000000; fill-opacity:1; font-family:Arial,Helvetica Neue,Helvetica,sans-serif; font-size:48px; text-anchor:middle;\\\" transform=\\\"rotate(0, 656.905, 2228.21)\\\" x=\\\"656.905\\\" y=\\\"2228.21\\\">18.25<\\/text>\\n<\\/g>\\n<g clip-path=\\\"url(#clip5700)\\\">\\n<text style=\\\"fill:#000000; fill-opacity:1; font-family:Arial,Helvetica Neue,Helvetica,sans-serif; font-size:48px; text-anchor:middle;\\\" transform=\\\"rotate(0, 1112.95, 2228.21)\\\" x=\\\"1112.95\\\" y=\\\"2228.21\\\">18.50<\\/text>\\n<\\/g>\\n<g clip-path=\\\"url(#clip5700)\\\">\\n<text style=\\\"fill:#000000; fill-opacity:1; font-family:Arial,Helvetica Neue,Helvetica,sans-serif; font-size:48px; text-anchor:middle;\\\" transform=\\\"rotate(0, 1569, 2228.21)\\\" x=\\\"1569\\\" y=\\\"2228.21\\\">18.75<\\/text>\\n<\\/g>\\n<g clip-path=\\\"url(#clip5700)\\\">\\n<text style=\\\"fill:#000000; fill-opacity:1; font-family:Arial,Helvetica Neue,Helvetica,sans-serif; font-size:48px; text-anchor:middle;\\\" transform=\\\"rotate(0, 2025.04, 2228.21)\\\" x=\\\"2025.04\\\" y=\\\"2228.21\\\">19.00<\\/text>\\n<\\/g>\\n<g clip-path=\\\"url(#clip5700)\\\">\\n<text style=\\\"fill:#000000; fill-opacity:1; font-family:Arial,Helvetica Neue,Helvetica,sans-serif; font-size:48px; text-anchor:middle;\\\" transform=\\\"rotate(0, 2481.09, 2228.21)\\\" x=\\\"2481.09\\\" y=\\\"2228.21\\\">19.25<\\/text>\\n<\\/g>\\n<g clip-path=\\\"url(#clip5700)\\\">\\n<text style=\\\"fill:#000000; fill-opacity:1; font-family:Arial,Helvetica Neue,Helvetica,sans-serif; font-size:66px; text-anchor:middle;\\\" transform=\\\"rotate(0, 1498.31, 2312.07)\\\" x=\\\"1498.31\\\" y=\\\"2312.07\\\">m(Dbar Sigma) (GeV)<\\/text>\\n<\\/g>\\n<polyline clip-path=\\\"url(#clip5703)\\\" style=\\\"stroke:#000000; stroke-width:8; stroke-opacity:1; fill:none\\\" points=\\\"\\n  337.985,2152.28 551.712,2152.28 680.153,2152.28 788.748,2152.28 906.713,2152.28 1015.47,2152.28 1073.76,2152.28 1132.06,2152.28 1199.6,2152.28 1267.15,2152.28 \\n  1297.16,2152.28 1327.17,2152.28 1342.18,2152.28 1357.18,2152.28 1360.94,2152.28 1364.69,2152.28 1366.56,2152.28 1368.44,2152.28 1369.38,2152.28 1370.32,2152.28 \\n  1371.25,2152.28 1372.19,2152.28 1373.13,2152.28 1374.07,2016.38 1375,1956.06 1375.94,1913.43 1376.88,1879.64 1377.82,1851.46 1378.76,1827.26 1379.69,1806.07 \\n  1381.57,1770.39 1383.45,1741.28 1385.32,1716.96 1387.2,1696.32 1390.49,1666.83 1393.78,1643.7 1397.07,1625.27 1400.36,1610.44 1403.65,1598.42 1406.94,1588.64 \\n  1410.23,1580.7 1413.52,1574.25 1420.09,1564.87 1426.67,1559.04 1433.25,1555.76 1439.83,1554.37 1452.99,1555.44 1466.15,1559.79 1479.31,1566.02 1492.47,1573.34 \\n  1549.86,1608.84 1607.24,1642.42 1664.97,1671.91 1722.7,1697.36 1786.53,1721.58 1850.35,1742.49 1911.08,1759.9 1971.81,1775.32 2098.1,1802.47 2204.41,1821.38 \\n  2334.2,1840.88 2456.2,1856.46 2651.67,1877.31 \\n  \\\"\\/>\\n<polygon clip-path=\\\"url(#clip5700)\\\" points=\\\"\\n243.864,3025.62 2752.76,3025.62 2752.76,2391.84 243.864,2391.84 \\n  \\\" fill=\\\"#ffffff\\\" fill-rule=\\\"evenodd\\\" fill-opacity=\\\"1\\\"\\/>\\n<defs>\\n  <clipPath id=\\\"clip5704\\\">\\n    <rect x=\\\"243\\\" y=\\\"2391\\\" width=\\\"2510\\\" height=\\\"635\\\"\\/>\\n  <\\/clipPath>\\n<\\/defs>\\n<polyline clip-path=\\\"url(#clip5704)\\\" style=\\\"stroke:#000000; stroke-width:2; stroke-opacity:0.1; fill:none\\\" points=\\\"\\n  656.905,3025.62 656.905,2391.84 \\n  \\\"\\/>\\n<polyline clip-path=\\\"url(#clip5704)\\\" style=\\\"stroke:#000000; stroke-width:2; stroke-opacity:0.1; fill:none\\\" points=\\\"\\n  1112.95,3025.62 1112.95,2391.84 \\n  \\\"\\/>\\n<polyline clip-path=\\\"url(#clip5704)\\\" style=\\\"stroke:#000000; stroke-width:2; stroke-opacity:0.1; fill:none\\\" points=\\\"\\n  1569,3025.62 1569,2391.84 \\n  \\\"\\/>\\n<polyline clip-path=\\\"url(#clip5704)\\\" style=\\\"stroke:#000000; stroke-width:2; stroke-opacity:0.1; fill:none\\\" points=\\\"\\n  2025.04,3025.62 2025.04,2391.84 \\n  \\\"\\/>\\n<polyline clip-path=\\\"url(#clip5704)\\\" style=\\\"stroke:#000000; stroke-width:2; stroke-opacity:0.1; fill:none\\\" points=\\\"\\n  2481.09,3025.62 2481.09,2391.84 \\n  \\\"\\/>\\n<polyline clip-path=\\\"url(#clip5704)\\\" style=\\\"stroke:#000000; stroke-width:2; stroke-opacity:0.1; fill:none\\\" points=\\\"\\n  243.864,3008.02 2752.76,3008.02 \\n  \\\"\\/>\\n<polyline clip-path=\\\"url(#clip5704)\\\" style=\\\"stroke:#000000; stroke-width:2; stroke-opacity:0.1; fill:none\\\" points=\\\"\\n  243.864,2818.1 2752.76,2818.1 \\n  \\\"\\/>\\n<polyline clip-path=\\\"url(#clip5704)\\\" style=\\\"stroke:#000000; stroke-width:2; stroke-opacity:0.1; fill:none\\\" points=\\\"\\n  243.864,2628.17 2752.76,2628.17 \\n  \\\"\\/>\\n<polyline clip-path=\\\"url(#clip5704)\\\" style=\\\"stroke:#000000; stroke-width:2; stroke-opacity:0.1; fill:none\\\" points=\\\"\\n  243.864,2438.24 2752.76,2438.24 \\n  \\\"\\/>\\n<polyline clip-path=\\\"url(#clip5700)\\\" style=\\\"stroke:#000000; stroke-width:4; stroke-opacity:1; fill:none\\\" points=\\\"\\n  243.864,3025.62 2752.76,3025.62 \\n  \\\"\\/>\\n<polyline clip-path=\\\"url(#clip5700)\\\" style=\\\"stroke:#000000; stroke-width:4; stroke-opacity:1; fill:none\\\" points=\\\"\\n  656.905,3025.62 656.905,3016.11 \\n  \\\"\\/>\\n<polyline clip-path=\\\"url(#clip5700)\\\" style=\\\"stroke:#000000; stroke-width:4; stroke-opacity:1; fill:none\\\" points=\\\"\\n  1112.95,3025.62 1112.95,3016.11 \\n  \\\"\\/>\\n<polyline clip-path=\\\"url(#clip5700)\\\" style=\\\"stroke:#000000; stroke-width:4; stroke-opacity:1; fill:none\\\" points=\\\"\\n  1569,3025.62 1569,3016.11 \\n  \\\"\\/>\\n<polyline clip-path=\\\"url(#clip5700)\\\" style=\\\"stroke:#000000; stroke-width:4; stroke-opacity:1; fill:none\\\" points=\\\"\\n  2025.04,3025.62 2025.04,3016.11 \\n  \\\"\\/>\\n<polyline clip-path=\\\"url(#clip5700)\\\" style=\\\"stroke:#000000; stroke-width:4; stroke-opacity:1; fill:none\\\" points=\\\"\\n  2481.09,3025.62 2481.09,3016.11 \\n  \\\"\\/>\\n<g clip-path=\\\"url(#clip5700)\\\">\\n<text style=\\\"fill:#000000; fill-opacity:1; font-family:Arial,Helvetica Neue,Helvetica,sans-serif; font-size:48px; text-anchor:middle;\\\" transform=\\\"rotate(0, 656.905, 3083.62)\\\" x=\\\"656.905\\\" y=\\\"3083.62\\\">18.25<\\/text>\\n<\\/g>\\n<g clip-path=\\\"url(#clip5700)\\\">\\n<text style=\\\"fill:#000000; fill-opacity:1; font-family:Arial,Helvetica Neue,Helvetica,sans-serif; font-size:48px; text-anchor:middle;\\\" transform=\\\"rotate(0, 1112.95, 3083.62)\\\" x=\\\"1112.95\\\" y=\\\"3083.62\\\">18.50<\\/text>\\n<\\/g>\\n<g clip-path=\\\"url(#clip5700)\\\">\\n<text style=\\\"fill:#000000; fill-opacity:1; font-family:Arial,Helvetica Neue,Helvetica,sans-serif; font-size:48px; text-anchor:middle;\\\" transform=\\\"rotate(0, 1569, 3083.62)\\\" x=\\\"1569\\\" y=\\\"3083.62\\\">18.75<\\/text>\\n<\\/g>\\n<g clip-path=\\\"url(#clip5700)\\\">\\n<text style=\\\"fill:#000000; fill-opacity:1; font-family:Arial,Helvetica Neue,Helvetica,sans-serif; font-size:48px; text-anchor:middle;\\\" transform=\\\"rotate(0, 2025.04, 3083.62)\\\" x=\\\"2025.04\\\" y=\\\"3083.62\\\">19.00<\\/text>\\n<\\/g>\\n<g clip-path=\\\"url(#clip5700)\\\">\\n<text style=\\\"fill:#000000; fill-opacity:1; font-family:Arial,Helvetica Neue,Helvetica,sans-serif; font-size:48px; text-anchor:middle;\\\" transform=\\\"rotate(0, 2481.09, 3083.62)\\\" x=\\\"2481.09\\\" y=\\\"3083.62\\\">19.25<\\/text>\\n<\\/g>\\n<g clip-path=\\\"url(#clip5700)\\\">\\n<text style=\\\"fill:#000000; fill-opacity:1; font-family:Arial,Helvetica Neue,Helvetica,sans-serif; font-size:66px; text-anchor:middle;\\\" transform=\\\"rotate(0, 1498.31, 3167.48)\\\" x=\\\"1498.31\\\" y=\\\"3167.48\\\">m(Jpsi p) (GeV)<\\/text>\\n<\\/g>\\n<polyline clip-path=\\\"url(#clip5704)\\\" style=\\\"stroke:#000000; stroke-width:8; stroke-opacity:1; fill:none\\\" points=\\\"\\n  337.985,3007.36 551.712,3007.08 680.153,3006.8 788.748,3006.42 906.713,3005.71 1015.47,3004.35 1044.62,3003.73 1073.76,3002.89 1102.91,3001.74 1132.06,3000.04 \\n  1165.83,2996.82 1199.6,2990.58 1216.49,2984.87 1233.38,2975.29 1241.82,2967.8 1250.26,2957.11 1254.48,2949.98 1258.71,2941.13 1262.93,2929.98 1267.15,2915.69 \\n  1270.9,2899.37 1274.65,2878.33 1276.53,2865.5 1278.4,2850.75 1280.28,2833.75 1282.15,2814.09 1284.03,2791.31 1285.91,2764.9 1287.78,2734.36 1289.66,2699.25 \\n  1291.53,2659.37 1293.41,2614.98 1295.28,2567.19 1297.16,2518.42 1298.1,2494.87 1299.04,2472.74 1299.97,2452.78 1300.91,2435.78 1301.85,2422.51 1302.79,2413.67 \\n  1303.73,2409.77 1304.66,2411.14 1305.6,2417.78 1306.54,2429.47 1307.48,2445.71 1308.41,2465.81 1310.29,2514.34 1312.17,2568.51 1314.04,2622.88 1315.92,2673.85 \\n  1317.79,2719.59 1319.67,2759.53 1321.55,2793.81 1323.42,2822.97 1325.3,2847.67 1327.17,2868.57 1329.05,2886.29 1330.92,2901.34 1332.8,2914.18 1334.68,2925.18 \\n  1338.43,2942.82 1342.18,2956.12 1349.68,2974.3 1357.18,2985.77 1364.69,2993.59 1372.19,3000.01 1379.69,3002.68 1387.2,3003.24 1413.52,3004.45 1439.83,3005.14 \\n  1466.15,3005.6 1492.47,3005.92 1607.24,3006.69 1722.7,3007.04 1850.35,3007.25 1971.81,3007.38 2098.1,3007.48 2204.41,3007.53 2334.2,3007.59 2456.2,3007.63 \\n  2651.67,3007.68 \\n  \\\"\\/>\\n<\\/svg>\\n\"},\"nodeType\":\"DOM\",\"type\":\"node\",\"instanceArgs\":{\"namespace\":\"html\",\"tag\":\"div\"},\"children\":[]}]}}}},\"children\":[{\"props\":{},\"nodeType\":\"ObservableNode\",\"type\":\"node\",\"instanceArgs\":{\"id\":\"ob_16\",\"name\":\"obs-node\"},\"children\":[]}]}]},\n",
       "            window,\n",
       "        );\n",
       "    } else {\n",
       "        document\n",
       "            .querySelector('[data-webio-mountpoint=\"13889696028619366225\"]')\n",
       "            .innerHTML = '<strong>WebIO not detected.</strong>';\n",
       "    }\n",
       "    </script>\n",
       "</div>\n"
      ],
      "text/plain": [
       "Node{WebIO.DOM}(WebIO.DOM(:html, :div), Any[Node{DOM}(DOM(:html, :div), Any[Scope(\"scope-b4ebbb85-9c3a-4373-9cc5-d10cfb142d51\", Node{DOM}(DOM(:html, :div), Any[Node{DOM}(DOM(:html, :div), Any[Node{DOM}(DOM(:html, :label), Any[\"γRe\"], Dict{Symbol,Any}(:className=>\"interact \",:style=>Dict{Any,Any}(:padding=>\"5px 10px 0px 10px\")), 1)], Dict{Symbol,Any}(:className=>\"interact-flex-row-left\"), 2), Node{DOM}(DOM(:html, :div), Any[Node{DOM}(DOM(:html, :input), Any[], Dict{Symbol,Any}(:max=>100,:min=>1,:attributes=>Dict{Any,Any}(:type=>\"range\",Symbol(\"data-bind\")=>\"numericValue: index, valueUpdate: 'input', event: {change: function (){this.changes(this.changes()+1)}}\",\"orient\"=>\"horizontal\"),:step=>1,:className=>\"slider slider is-fullwidth\",:style=>Dict{Any,Any}()), 0)], Dict{Symbol,Any}(:className=>\"interact-flex-row-center\"), 1), Node{DOM}(DOM(:html, :div), Any[Node{DOM}(DOM(:html, :p), Any[], Dict{Symbol,Any}(:attributes=>Dict(\"data-bind\"=>\"text: formatted_val\")), 0)], Dict{Symbol,Any}(:className=>\"interact-flex-row-right\"), 1)], Dict{Symbol,Any}(:className=>\"interact-flex-row interact-widget\"), 7), Dict{String,Tuple{Observables.AbstractObservable,Union{Nothing, Bool}}}(\"changes\"=>(Observable{Int64} with 1 listeners. Value:\n",
       "0, nothing),\"index\"=>(Observable{Any} with 2 listeners. Value:\n",
       "50, nothing)), Set(String[]), nothing, Asset[Asset(\"js\", \"knockout\", \"C:\\\\Users\\\\mikha\\\\.julia\\\\packages\\\\Knockout\\\\1sDlc\\\\src\\\\..\\\\assets\\\\knockout.js\"), Asset(\"js\", \"knockout_punches\", \"C:\\\\Users\\\\mikha\\\\.julia\\\\packages\\\\Knockout\\\\1sDlc\\\\src\\\\..\\\\assets\\\\knockout_punches.js\"), Asset(\"js\", nothing, \"C:\\\\Users\\\\mikha\\\\.julia\\\\packages\\\\InteractBase\\\\l8cEC\\\\src\\\\..\\\\assets\\\\all.js\"), Asset(\"css\", nothing, \"C:\\\\Users\\\\mikha\\\\.julia\\\\packages\\\\InteractBase\\\\l8cEC\\\\src\\\\..\\\\assets\\\\style.css\"), Asset(\"css\", nothing, \"C:\\\\Users\\\\mikha\\\\.julia\\\\packages\\\\Interact\\\\0klKX\\\\src\\\\..\\\\assets\\\\bulma_confined.min.css\")], Dict{Any,Any}(\"changes\"=>Any[JSString(\"(function (val){return (val!=this.model[\\\"changes\\\"]()) ? (this.valueFromJulia[\\\"changes\\\"]=true, this.model[\\\"changes\\\"](val)) : undefined})\")],\"index\"=>Any[JSString(\"(function (val){return (val!=this.model[\\\"index\\\"]()) ? (this.valueFromJulia[\\\"index\\\"]=true, this.model[\\\"index\\\"](val)) : undefined})\")]), ConnectionPool(Channel{Any}(sz_max:9223372036854775807,sz_curr:0), Set(AbstractConnection[]), Channel{AbstractConnection}(sz_max:32,sz_curr:0)), WebIO.JSString[JSString(\"function () {\\n    var handler = (function (ko, koPunches) {\\n    ko.punches.enableAll();\\n    ko.bindingHandlers.numericValue = {\\n        init: function(element, valueAccessor, allBindings, data, context) {\\n            var stringified = ko.observable(ko.unwrap(valueAccessor()));\\n            stringified.subscribe(function(value) {\\n                var val = parseFloat(value);\\n                if (!isNaN(val)) {\\n                    valueAccessor()(val);\\n                }\\n            });\\n            valueAccessor().subscribe(function(value) {\\n                var str = JSON.stringify(value);\\n                if ((str == \\\"0\\\") && ([\\\"-0\\\", \\\"-0.\\\"].indexOf(stringified()) >= 0))\\n                     return;\\n                 if ([\\\"null\\\", \\\"\\\"].indexOf(str) >= 0)\\n                     return;\\n                stringified(str);\\n            });\\n            ko.applyBindingsToNode(\\n                element,\\n                {\\n                    value: stringified,\\n                    valueUpdate: allBindings.get('valueUpdate'),\\n                },\\n                context,\\n            );\\n        }\\n    };\\n    var json_data = {\\\"formatted_vals\\\":[\\\"-150.0\\\",\\\"-144.949\\\",\\\"-139.899\\\",\\\"-134.848\\\",\\\"-129.798\\\",\\\"-124.747\\\",\\\"-119.697\\\",\\\"-114.646\\\",\\\"-109.596\\\",\\\"-104.545\\\",\\\"-99.4949\\\",\\\"-94.4444\\\",\\\"-89.3939\\\",\\\"-84.3434\\\",\\\"-79.2929\\\",\\\"-74.2424\\\",\\\"-69.1919\\\",\\\"-64.1414\\\",\\\"-59.0909\\\",\\\"-54.0404\\\",\\\"-48.9899\\\",\\\"-43.9394\\\",\\\"-38.8889\\\",\\\"-33.8384\\\",\\\"-28.7879\\\",\\\"-23.7374\\\",\\\"-18.6869\\\",\\\"-13.6364\\\",\\\"-8.58586\\\",\\\"-3.53535\\\",\\\"1.51515\\\",\\\"6.56566\\\",\\\"11.6162\\\",\\\"16.6667\\\",\\\"21.7172\\\",\\\"26.7677\\\",\\\"31.8182\\\",\\\"36.8687\\\",\\\"41.9192\\\",\\\"46.9697\\\",\\\"52.0202\\\",\\\"57.0707\\\",\\\"62.1212\\\",\\\"67.1717\\\",\\\"72.2222\\\",\\\"77.2727\\\",\\\"82.3232\\\",\\\"87.3737\\\",\\\"92.4242\\\",\\\"97.4747\\\",\\\"102.525\\\",\\\"107.576\\\",\\\"112.626\\\",\\\"117.677\\\",\\\"122.727\\\",\\\"127.778\\\",\\\"132.828\\\",\\\"137.879\\\",\\\"142.929\\\",\\\"147.98\\\",\\\"153.03\\\",\\\"158.081\\\",\\\"163.131\\\",\\\"168.182\\\",\\\"173.232\\\",\\\"178.283\\\",\\\"183.333\\\",\\\"188.384\\\",\\\"193.434\\\",\\\"198.485\\\",\\\"203.535\\\",\\\"208.586\\\",\\\"213.636\\\",\\\"218.687\\\",\\\"223.737\\\",\\\"228.788\\\",\\\"233.838\\\",\\\"238.889\\\",\\\"243.939\\\",\\\"248.99\\\",\\\"254.04\\\",\\\"259.091\\\",\\\"264.141\\\",\\\"269.192\\\",\\\"274.242\\\",\\\"279.293\\\",\\\"284.343\\\",\\\"289.394\\\",\\\"294.444\\\",\\\"299.495\\\",\\\"304.545\\\",\\\"309.596\\\",\\\"314.646\\\",\\\"319.697\\\",\\\"324.747\\\",\\\"329.798\\\",\\\"334.848\\\",\\\"339.899\\\",\\\"344.949\\\",\\\"350.0\\\"],\\\"changes\\\":WebIO.getval({\\\"name\\\":\\\"changes\\\",\\\"scope\\\":\\\"scope-b4ebbb85-9c3a-4373-9cc5-d10cfb142d51\\\",\\\"id\\\":\\\"ob_09\\\",\\\"type\\\":\\\"observable\\\"}),\\\"index\\\":WebIO.getval({\\\"name\\\":\\\"index\\\",\\\"scope\\\":\\\"scope-b4ebbb85-9c3a-4373-9cc5-d10cfb142d51\\\",\\\"id\\\":\\\"ob_08\\\",\\\"type\\\":\\\"observable\\\"})};\\n    var self = this;\\n    function AppViewModel() {\\n        for (var key in json_data) {\\n            var el = json_data[key];\\n            this[key] = Array.isArray(el) ? ko.observableArray(el) : ko.observable(el);\\n        }\\n        \\n        [this[\\\"formatted_val\\\"]=ko.computed(    function(){\\n        return this.formatted_vals()[parseInt(this.index())-(1)];\\n    }\\n,this)]\\n        [this[\\\"changes\\\"].subscribe((function (val){!(this.valueFromJulia[\\\"changes\\\"]) ? (WebIO.setval({\\\"name\\\":\\\"changes\\\",\\\"scope\\\":\\\"scope-b4ebbb85-9c3a-4373-9cc5-d10cfb142d51\\\",\\\"id\\\":\\\"ob_09\\\",\\\"type\\\":\\\"observable\\\"},val)) : undefined; return this.valueFromJulia[\\\"changes\\\"]=false}),self),this[\\\"index\\\"].subscribe((function (val){!(this.valueFromJulia[\\\"index\\\"]) ? (WebIO.setval({\\\"name\\\":\\\"index\\\",\\\"scope\\\":\\\"scope-b4ebbb85-9c3a-4373-9cc5-d10cfb142d51\\\",\\\"id\\\":\\\"ob_08\\\",\\\"type\\\":\\\"observable\\\"},val)) : undefined; return this.valueFromJulia[\\\"index\\\"]=false}),self)]\\n        \\n    }\\n    self.model = new AppViewModel();\\n    self.valueFromJulia = {};\\n    for (var key in json_data) {\\n        self.valueFromJulia[key] = false;\\n    }\\n    ko.applyBindings(self.model, self.dom);\\n}\\n);\\n    (WebIO.importBlock({\\\"data\\\":[{\\\"name\\\":\\\"knockout\\\",\\\"type\\\":\\\"js\\\",\\\"url\\\":\\\"/assetserver/400851c8b8cf7fc10948b385af7e3ef99cb76dbc-knockout.js\\\"},{\\\"name\\\":\\\"knockout_punches\\\",\\\"type\\\":\\\"js\\\",\\\"url\\\":\\\"/assetserver/318f1c0cec30819eed901ca48cd0d6e3c354c074-knockout_punches.js\\\"}],\\\"type\\\":\\\"async_block\\\"})).then((imports) => handler.apply(this, imports));\\n}\\n\")])], Dict{Symbol,Any}(:className=>\"field interact-widget\"), 1), Node{DOM}(DOM(:html, :div), Any[Scope(\"scope-839cec23-edd5-4bfc-beb2-e9d94a01022b\", Node{DOM}(DOM(:html, :div), Any[Node{DOM}(DOM(:html, :div), Any[Node{DOM}(DOM(:html, :label), Any[\"γIm\"], Dict{Symbol,Any}(:className=>\"interact \",:style=>Dict{Any,Any}(:padding=>\"5px 10px 0px 10px\")), 1)], Dict{Symbol,Any}(:className=>\"interact-flex-row-left\"), 2), Node{DOM}(DOM(:html, :div), Any[Node{DOM}(DOM(:html, :input), Any[], Dict{Symbol,Any}(:max=>100,:min=>1,:attributes=>Dict{Any,Any}(:type=>\"range\",Symbol(\"data-bind\")=>\"numericValue: index, valueUpdate: 'input', event: {change: function (){this.changes(this.changes()+1)}}\",\"orient\"=>\"horizontal\"),:step=>1,:className=>\"slider slider is-fullwidth\",:style=>Dict{Any,Any}()), 0)], Dict{Symbol,Any}(:className=>\"interact-flex-row-center\"), 1), Node{DOM}(DOM(:html, :div), Any[Node{DOM}(DOM(:html, :p), Any[], Dict{Symbol,Any}(:attributes=>Dict(\"data-bind\"=>\"text: formatted_val\")), 0)], Dict{Symbol,Any}(:className=>\"interact-flex-row-right\"), 1)], Dict{Symbol,Any}(:className=>\"interact-flex-row interact-widget\"), 7), Dict{String,Tuple{Observables.AbstractObservable,Union{Nothing, Bool}}}(\"changes\"=>(Observable{Int64} with 1 listeners. Value:\n",
       "0, nothing),\"index\"=>(Observable{Any} with 2 listeners. Value:\n",
       "50, nothing)), Set(String[]), nothing, Asset[Asset(\"js\", \"knockout\", \"C:\\\\Users\\\\mikha\\\\.julia\\\\packages\\\\Knockout\\\\1sDlc\\\\src\\\\..\\\\assets\\\\knockout.js\"), Asset(\"js\", \"knockout_punches\", \"C:\\\\Users\\\\mikha\\\\.julia\\\\packages\\\\Knockout\\\\1sDlc\\\\src\\\\..\\\\assets\\\\knockout_punches.js\"), Asset(\"js\", nothing, \"C:\\\\Users\\\\mikha\\\\.julia\\\\packages\\\\InteractBase\\\\l8cEC\\\\src\\\\..\\\\assets\\\\all.js\"), Asset(\"css\", nothing, \"C:\\\\Users\\\\mikha\\\\.julia\\\\packages\\\\InteractBase\\\\l8cEC\\\\src\\\\..\\\\assets\\\\style.css\"), Asset(\"css\", nothing, \"C:\\\\Users\\\\mikha\\\\.julia\\\\packages\\\\Interact\\\\0klKX\\\\src\\\\..\\\\assets\\\\bulma_confined.min.css\")], Dict{Any,Any}(\"changes\"=>Any[JSString(\"(function (val){return (val!=this.model[\\\"changes\\\"]()) ? (this.valueFromJulia[\\\"changes\\\"]=true, this.model[\\\"changes\\\"](val)) : undefined})\")],\"index\"=>Any[JSString(\"(function (val){return (val!=this.model[\\\"index\\\"]()) ? (this.valueFromJulia[\\\"index\\\"]=true, this.model[\\\"index\\\"](val)) : undefined})\")]), ConnectionPool(Channel{Any}(sz_max:9223372036854775807,sz_curr:0), Set(AbstractConnection[]), Channel{AbstractConnection}(sz_max:32,sz_curr:0)), WebIO.JSString[JSString(\"function () {\\n    var handler = (function (ko, koPunches) {\\n    ko.punches.enableAll();\\n    ko.bindingHandlers.numericValue = {\\n        init: function(element, valueAccessor, allBindings, data, context) {\\n            var stringified = ko.observable(ko.unwrap(valueAccessor()));\\n            stringified.subscribe(function(value) {\\n                var val = parseFloat(value);\\n                if (!isNaN(val)) {\\n                    valueAccessor()(val);\\n                }\\n            });\\n            valueAccessor().subscribe(function(value) {\\n                var str = JSON.stringify(value);\\n                if ((str == \\\"0\\\") && ([\\\"-0\\\", \\\"-0.\\\"].indexOf(stringified()) >= 0))\\n                     return;\\n                 if ([\\\"null\\\", \\\"\\\"].indexOf(str) >= 0)\\n                     return;\\n                stringified(str);\\n            });\\n            ko.applyBindingsToNode(\\n                element,\\n                {\\n                    value: stringified,\\n                    valueUpdate: allBindings.get('valueUpdate'),\\n                },\\n                context,\\n            );\\n        }\\n    };\\n    var json_data = {\\\"formatted_vals\\\":[\\\"0.0\\\",\\\"0.20202\\\",\\\"0.40404\\\",\\\"0.606061\\\",\\\"0.808081\\\",\\\"1.0101\\\",\\\"1.21212\\\",\\\"1.41414\\\",\\\"1.61616\\\",\\\"1.81818\\\",\\\"2.0202\\\",\\\"2.22222\\\",\\\"2.42424\\\",\\\"2.62626\\\",\\\"2.82828\\\",\\\"3.0303\\\",\\\"3.23232\\\",\\\"3.43434\\\",\\\"3.63636\\\",\\\"3.83838\\\",\\\"4.0404\\\",\\\"4.24242\\\",\\\"4.44444\\\",\\\"4.64646\\\",\\\"4.84848\\\",\\\"5.05051\\\",\\\"5.25253\\\",\\\"5.45455\\\",\\\"5.65657\\\",\\\"5.85859\\\",\\\"6.06061\\\",\\\"6.26263\\\",\\\"6.46465\\\",\\\"6.66667\\\",\\\"6.86869\\\",\\\"7.07071\\\",\\\"7.27273\\\",\\\"7.47475\\\",\\\"7.67677\\\",\\\"7.87879\\\",\\\"8.08081\\\",\\\"8.28283\\\",\\\"8.48485\\\",\\\"8.68687\\\",\\\"8.88889\\\",\\\"9.09091\\\",\\\"9.29293\\\",\\\"9.49495\\\",\\\"9.69697\\\",\\\"9.89899\\\",\\\"10.101\\\",\\\"10.303\\\",\\\"10.5051\\\",\\\"10.7071\\\",\\\"10.9091\\\",\\\"11.1111\\\",\\\"11.3131\\\",\\\"11.5152\\\",\\\"11.7172\\\",\\\"11.9192\\\",\\\"12.1212\\\",\\\"12.3232\\\",\\\"12.5253\\\",\\\"12.7273\\\",\\\"12.9293\\\",\\\"13.1313\\\",\\\"13.3333\\\",\\\"13.5354\\\",\\\"13.7374\\\",\\\"13.9394\\\",\\\"14.1414\\\",\\\"14.3434\\\",\\\"14.5455\\\",\\\"14.7475\\\",\\\"14.9495\\\",\\\"15.1515\\\",\\\"15.3535\\\",\\\"15.5556\\\",\\\"15.7576\\\",\\\"15.9596\\\",\\\"16.1616\\\",\\\"16.3636\\\",\\\"16.5657\\\",\\\"16.7677\\\",\\\"16.9697\\\",\\\"17.1717\\\",\\\"17.3737\\\",\\\"17.5758\\\",\\\"17.7778\\\",\\\"17.9798\\\",\\\"18.1818\\\",\\\"18.3838\\\",\\\"18.5859\\\",\\\"18.7879\\\",\\\"18.9899\\\",\\\"19.1919\\\",\\\"19.3939\\\",\\\"19.596\\\",\\\"19.798\\\",\\\"20.0\\\"],\\\"changes\\\":WebIO.getval({\\\"name\\\":\\\"changes\\\",\\\"scope\\\":\\\"scope-839cec23-edd5-4bfc-beb2-e9d94a01022b\\\",\\\"id\\\":\\\"ob_12\\\",\\\"type\\\":\\\"observable\\\"}),\\\"index\\\":WebIO.getval({\\\"name\\\":\\\"index\\\",\\\"scope\\\":\\\"scope-839cec23-edd5-4bfc-beb2-e9d94a01022b\\\",\\\"id\\\":\\\"ob_11\\\",\\\"type\\\":\\\"observable\\\"})};\\n    var self = this;\\n    function AppViewModel() {\\n        for (var key in json_data) {\\n            var el = json_data[key];\\n            this[key] = Array.isArray(el) ? ko.observableArray(el) : ko.observable(el);\\n        }\\n        \\n        [this[\\\"formatted_val\\\"]=ko.computed(    function(){\\n        return this.formatted_vals()[parseInt(this.index())-(1)];\\n    }\\n,this)]\\n        [this[\\\"changes\\\"].subscribe((function (val){!(this.valueFromJulia[\\\"changes\\\"]) ? (WebIO.setval({\\\"name\\\":\\\"changes\\\",\\\"scope\\\":\\\"scope-839cec23-edd5-4bfc-beb2-e9d94a01022b\\\",\\\"id\\\":\\\"ob_12\\\",\\\"type\\\":\\\"observable\\\"},val)) : undefined; return this.valueFromJulia[\\\"changes\\\"]=false}),self),this[\\\"index\\\"].subscribe((function (val){!(this.valueFromJulia[\\\"index\\\"]) ? (WebIO.setval({\\\"name\\\":\\\"index\\\",\\\"scope\\\":\\\"scope-839cec23-edd5-4bfc-beb2-e9d94a01022b\\\",\\\"id\\\":\\\"ob_11\\\",\\\"type\\\":\\\"observable\\\"},val)) : undefined; return this.valueFromJulia[\\\"index\\\"]=false}),self)]\\n        \\n    }\\n    self.model = new AppViewModel();\\n    self.valueFromJulia = {};\\n    for (var key in json_data) {\\n        self.valueFromJulia[key] = false;\\n    }\\n    ko.applyBindings(self.model, self.dom);\\n}\\n);\\n    (WebIO.importBlock({\\\"data\\\":[{\\\"name\\\":\\\"knockout\\\",\\\"type\\\":\\\"js\\\",\\\"url\\\":\\\"/assetserver/400851c8b8cf7fc10948b385af7e3ef99cb76dbc-knockout.js\\\"},{\\\"name\\\":\\\"knockout_punches\\\",\\\"type\\\":\\\"js\\\",\\\"url\\\":\\\"/assetserver/318f1c0cec30819eed901ca48cd0d6e3c354c074-knockout_punches.js\\\"}],\\\"type\\\":\\\"async_block\\\"})).then((imports) => handler.apply(this, imports));\\n}\\n\")])], Dict{Symbol,Any}(:className=>\"field interact-widget\"), 1), Observable{Any} with 0 listeners. Value:\n",
       "Node{DOM}(DOM(:html, :div), Any[Plot{Plots.GRBackend() n=6}], Dict{Symbol,Any}(:className=>\"interact-flex-row interact-widget\"), 1)], Dict{Symbol,Any}(), 3)"
      ]
     },
     "execution_count": 8,
     "metadata": {
      "application/vnd.webio.node+json": {
       "kernelId": null
      }
     },
     "output_type": "execute_result"
    }
   ],
   "source": [
    "@manipulate for γRe = LinRange(-150,350,100), γIm = LinRange(0,20,100)\n",
    "    γ = (γRe + 1im*γIm)*1e-3\n",
    "    plot_complex_plane_and_spectra(γ)\n",
    "end"
   ]
  }
 ],
 "metadata": {
  "@webio": {
   "lastCommId": null,
   "lastKernelId": null
  },
  "kernelspec": {
   "display_name": "Julia 1.1.0",
   "language": "julia",
   "name": "julia-1.1"
  },
  "language_info": {
   "file_extension": ".jl",
   "mimetype": "application/julia",
   "name": "julia",
   "version": "1.1.0"
  }
 },
 "nbformat": 4,
 "nbformat_minor": 2
}
